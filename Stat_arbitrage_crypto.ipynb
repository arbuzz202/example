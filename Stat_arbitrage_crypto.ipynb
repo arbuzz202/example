{
 "cells": [
  {
   "cell_type": "code",
   "execution_count": 2,
   "id": "9b90c76a-6b22-4ad0-b2a0-afe7e05464c2",
   "metadata": {},
   "outputs": [],
   "source": [
    "import pandas as pd\n",
    "import numpy as np\n",
    "import ccxt\n",
    "from datetime import datetime\n",
    "import statsmodels.tsa.stattools\n",
    "from sklearn.linear_model import LinearRegression\n",
    "import statsmodels.api\n",
    "\n",
    "from __future__ import (absolute_import, division, print_function,\n",
    "                        unicode_literals)\n",
    "import argparse\n",
    "\n",
    "import backtrader as bt\n",
    "import backtrader.feeds as btfeeds\n",
    "import backtrader.indicators as btind\n",
    "from sklearn.linear_model import LinearRegression"
   ]
  },
  {
   "cell_type": "code",
   "execution_count": 3,
   "id": "fecc473b-5533-430f-ab1a-7799dbd89748",
   "metadata": {},
   "outputs": [
    {
     "name": "stdout",
     "output_type": "stream",
     "text": [
      "0.0%\n",
      "0.83%\n",
      "1.65%\n",
      "2.48%\n",
      "3.31%\n",
      "4.13%\n",
      "4.96%\n",
      "5.79%\n",
      "6.61%\n",
      "7.44%\n",
      "8.26%\n",
      "9.09%\n",
      "9.92%\n",
      "10.74%\n",
      "11.57%\n",
      "12.4%\n",
      "13.22%\n",
      "14.05%\n",
      "14.88%\n",
      "15.7%\n",
      "16.53%\n",
      "17.36%\n",
      "18.18%\n",
      "19.01%\n",
      "19.83%\n",
      "20.66%\n",
      "21.49%\n",
      "22.31%\n",
      "23.14%\n",
      "23.97%\n",
      "24.79%\n",
      "25.62%\n",
      "26.45%\n",
      "27.27%\n",
      "28.1%\n",
      "28.93%\n",
      "29.75%\n",
      "30.58%\n",
      "31.4%\n",
      "32.23%\n",
      "33.06%\n",
      "33.88%\n",
      "34.71%\n",
      "35.54%\n",
      "36.36%\n",
      "37.19%\n",
      "38.02%\n",
      "38.84%\n",
      "39.67%\n",
      "40.5%\n",
      "41.32%\n",
      "42.15%\n",
      "42.98%\n",
      "43.8%\n",
      "44.63%\n",
      "45.45%\n",
      "46.28%\n",
      "47.11%\n",
      "47.93%\n",
      "48.76%\n",
      "49.59%\n",
      "50.41%\n",
      "51.24%\n",
      "52.07%\n",
      "52.89%\n",
      "53.72%\n",
      "54.55%\n",
      "55.37%\n",
      "56.2%\n",
      "57.02%\n",
      "57.85%\n",
      "58.68%\n",
      "59.5%\n",
      "60.33%\n",
      "61.16%\n",
      "61.98%\n",
      "62.81%\n",
      "63.64%\n",
      "64.46%\n",
      "65.29%\n",
      "66.12%\n",
      "66.94%\n",
      "67.77%\n",
      "68.6%\n",
      "69.42%\n",
      "70.25%\n",
      "71.07%\n",
      "71.9%\n",
      "72.73%\n",
      "73.55%\n",
      "74.38%\n",
      "75.21%\n",
      "76.03%\n",
      "76.86%\n",
      "77.69%\n",
      "78.51%\n",
      "79.34%\n",
      "80.17%\n",
      "80.99%\n",
      "81.82%\n",
      "82.64%\n",
      "83.47%\n",
      "84.3%\n",
      "85.12%\n",
      "85.95%\n",
      "86.78%\n",
      "87.6%\n",
      "88.43%\n",
      "89.26%\n",
      "90.08%\n",
      "90.91%\n",
      "91.74%\n",
      "92.56%\n",
      "93.39%\n",
      "94.21%\n",
      "95.04%\n",
      "95.87%\n",
      "96.69%\n",
      "97.52%\n",
      "98.35%\n",
      "99.17%\n",
      "Done!\n"
     ]
    }
   ],
   "source": [
    "exchange = ccxt.binanceusdm()\n",
    "pairs = exchange.load_markets()\n",
    "quotes = pd.DataFrame()\n",
    "columns = ['Timestamp', 'Open', 'High', 'Low', 'BTC/USDT', 'Volume']\n",
    "ticker = pd.DataFrame(exchange.fetch_ohlcv(\"BTC/USDT\", timeframe=\"4h\"), columns=columns)\n",
    "\n",
    "for pair in pairs:\n",
    "    columns = ['Timestamp', 'Open', 'High', 'Low', pair, 'Volume']\n",
    "    a = pd.DataFrame(exchange.fetch_ohlcv(pair, timeframe=\"4h\"), columns=columns)\n",
    "    print(str(round((list(pairs.keys()).index(pair)/len(list(pairs.keys()))*100), 2))+\"%\")\n",
    "    if a.shape[0] == 500:\n",
    "        quotes = pd.concat([quotes[:250], a[pair][:250]], axis=1)\n",
    "print(\"Done!\")\n",
    "quotes = quotes.replace('/','_', regex=True)\n",
    "quotes.to_csv(\"data/quotes_binance\")"
   ]
  },
  {
   "cell_type": "code",
   "execution_count": 6,
   "id": "576348ba-e74c-4cf6-8dd0-1899e7b74c97",
   "metadata": {},
   "outputs": [
    {
     "name": "stdout",
     "output_type": "stream",
     "text": [
      "0.0%\n",
      "0.83%\n",
      "1.65%\n",
      "2.48%\n",
      "3.31%\n",
      "4.13%\n",
      "4.96%\n",
      "5.79%\n",
      "6.61%\n",
      "7.44%\n",
      "8.26%\n",
      "9.09%\n",
      "9.92%\n",
      "10.74%\n",
      "11.57%\n",
      "12.4%\n",
      "13.22%\n",
      "14.05%\n",
      "14.88%\n",
      "15.7%\n",
      "16.53%\n",
      "17.36%\n",
      "18.18%\n",
      "19.01%\n",
      "19.83%\n",
      "20.66%\n",
      "21.49%\n",
      "22.31%\n",
      "23.14%\n",
      "23.97%\n",
      "24.79%\n",
      "25.62%\n",
      "26.45%\n",
      "27.27%\n",
      "28.1%\n",
      "28.93%\n",
      "29.75%\n",
      "30.58%\n",
      "31.4%\n",
      "32.23%\n",
      "33.06%\n",
      "33.88%\n",
      "34.71%\n",
      "35.54%\n",
      "36.36%\n",
      "37.19%\n",
      "38.02%\n",
      "38.84%\n",
      "39.67%\n",
      "40.5%\n",
      "41.32%\n",
      "42.15%\n",
      "42.98%\n",
      "43.8%\n",
      "44.63%\n",
      "45.45%\n",
      "46.28%\n",
      "47.11%\n",
      "47.93%\n",
      "48.76%\n",
      "49.59%\n",
      "50.41%\n",
      "51.24%\n",
      "52.07%\n",
      "52.89%\n",
      "53.72%\n",
      "54.55%\n",
      "55.37%\n",
      "56.2%\n",
      "57.02%\n",
      "57.85%\n",
      "58.68%\n",
      "59.5%\n",
      "60.33%\n",
      "61.16%\n",
      "61.98%\n",
      "62.81%\n",
      "63.64%\n",
      "64.46%\n",
      "65.29%\n",
      "66.12%\n",
      "66.94%\n",
      "67.77%\n",
      "68.6%\n",
      "69.42%\n",
      "70.25%\n",
      "71.07%\n",
      "71.9%\n",
      "72.73%\n",
      "73.55%\n",
      "74.38%\n",
      "75.21%\n",
      "76.03%\n",
      "76.86%\n",
      "77.69%\n",
      "78.51%\n",
      "79.34%\n",
      "80.17%\n",
      "80.99%\n",
      "81.82%\n",
      "82.64%\n",
      "83.47%\n",
      "84.3%\n",
      "85.12%\n",
      "85.95%\n",
      "86.78%\n",
      "87.6%\n",
      "88.43%\n",
      "89.26%\n",
      "90.08%\n",
      "90.91%\n",
      "91.74%\n",
      "92.56%\n",
      "93.39%\n",
      "94.21%\n",
      "95.04%\n",
      "95.87%\n",
      "96.69%\n",
      "97.52%\n",
      "98.35%\n",
      "99.17%\n",
      "Done!\n"
     ]
    }
   ],
   "source": [
    "exchange = ccxt.binanceusdm()\n",
    "pairs = exchange.load_markets()\n",
    "quotes = pd.DataFrame()\n",
    "columns = ['Timestamp', 'Open', 'High', 'Low', 'Close', 'Volume']\n",
    "path = \"data/\"\n",
    "\n",
    "for pair in pairs:\n",
    "    columns = ['Timestamp', 'Open', 'High', 'Low', \"Close\", 'Volume']\n",
    "    a = pd.DataFrame(exchange.fetch_ohlcv(pair, timeframe=\"4h\"), columns=columns)\n",
    "    print(str(round((list(pairs.keys()).index(pair)/len(list(pairs.keys()))*100), 2))+\"%\")\n",
    "    pair = pair.replace(\"/\", \"_\")\n",
    "    dt = list()\n",
    "    for n in a.Timestamp:\n",
    "        dt.append(datetime.fromtimestamp(n/1000))\n",
    "    a.Timestamp = dt\n",
    "    a[250:].to_csv(path+pair, index=False)\n",
    "print(\"Done!\")"
   ]
  },
  {
   "cell_type": "code",
   "execution_count": 7,
   "id": "2b9d9a53-fcc4-45d1-ab0f-da34ea94d75d",
   "metadata": {},
   "outputs": [
    {
     "name": "stdout",
     "output_type": "stream",
     "text": [
      "0.00 done\n"
     ]
    },
    {
     "name": "stderr",
     "output_type": "stream",
     "text": [
      "c:\\python39\\lib\\site-packages\\statsmodels\\regression\\linear_model.py:903: RuntimeWarning: divide by zero encountered in log\n",
      "  llf = -nobs2*np.log(2*np.pi) - nobs2*np.log(ssr / nobs) - nobs2\n"
     ]
    },
    {
     "name": "stdout",
     "output_type": "stream",
     "text": [
      "0.89 done\n"
     ]
    },
    {
     "name": "stderr",
     "output_type": "stream",
     "text": [
      "c:\\python39\\lib\\site-packages\\statsmodels\\regression\\linear_model.py:903: RuntimeWarning: divide by zero encountered in log\n",
      "  llf = -nobs2*np.log(2*np.pi) - nobs2*np.log(ssr / nobs) - nobs2\n"
     ]
    },
    {
     "name": "stdout",
     "output_type": "stream",
     "text": [
      "1.79 done\n"
     ]
    },
    {
     "name": "stderr",
     "output_type": "stream",
     "text": [
      "c:\\python39\\lib\\site-packages\\statsmodels\\regression\\linear_model.py:903: RuntimeWarning: divide by zero encountered in log\n",
      "  llf = -nobs2*np.log(2*np.pi) - nobs2*np.log(ssr / nobs) - nobs2\n"
     ]
    },
    {
     "name": "stdout",
     "output_type": "stream",
     "text": [
      "2.68 done\n"
     ]
    },
    {
     "name": "stderr",
     "output_type": "stream",
     "text": [
      "c:\\python39\\lib\\site-packages\\statsmodels\\regression\\linear_model.py:903: RuntimeWarning: divide by zero encountered in log\n",
      "  llf = -nobs2*np.log(2*np.pi) - nobs2*np.log(ssr / nobs) - nobs2\n"
     ]
    },
    {
     "name": "stdout",
     "output_type": "stream",
     "text": [
      "3.57 done\n"
     ]
    },
    {
     "name": "stderr",
     "output_type": "stream",
     "text": [
      "c:\\python39\\lib\\site-packages\\statsmodels\\regression\\linear_model.py:903: RuntimeWarning: divide by zero encountered in log\n",
      "  llf = -nobs2*np.log(2*np.pi) - nobs2*np.log(ssr / nobs) - nobs2\n"
     ]
    },
    {
     "name": "stdout",
     "output_type": "stream",
     "text": [
      "4.46 done\n"
     ]
    },
    {
     "name": "stderr",
     "output_type": "stream",
     "text": [
      "c:\\python39\\lib\\site-packages\\statsmodels\\regression\\linear_model.py:903: RuntimeWarning: divide by zero encountered in log\n",
      "  llf = -nobs2*np.log(2*np.pi) - nobs2*np.log(ssr / nobs) - nobs2\n"
     ]
    },
    {
     "name": "stdout",
     "output_type": "stream",
     "text": [
      "5.36 done\n"
     ]
    },
    {
     "name": "stderr",
     "output_type": "stream",
     "text": [
      "c:\\python39\\lib\\site-packages\\statsmodels\\regression\\linear_model.py:903: RuntimeWarning: divide by zero encountered in log\n",
      "  llf = -nobs2*np.log(2*np.pi) - nobs2*np.log(ssr / nobs) - nobs2\n"
     ]
    },
    {
     "name": "stdout",
     "output_type": "stream",
     "text": [
      "6.25 done\n"
     ]
    },
    {
     "name": "stderr",
     "output_type": "stream",
     "text": [
      "c:\\python39\\lib\\site-packages\\statsmodels\\regression\\linear_model.py:903: RuntimeWarning: divide by zero encountered in log\n",
      "  llf = -nobs2*np.log(2*np.pi) - nobs2*np.log(ssr / nobs) - nobs2\n"
     ]
    },
    {
     "name": "stdout",
     "output_type": "stream",
     "text": [
      "7.14 done\n"
     ]
    },
    {
     "name": "stderr",
     "output_type": "stream",
     "text": [
      "c:\\python39\\lib\\site-packages\\statsmodels\\regression\\linear_model.py:903: RuntimeWarning: divide by zero encountered in log\n",
      "  llf = -nobs2*np.log(2*np.pi) - nobs2*np.log(ssr / nobs) - nobs2\n"
     ]
    },
    {
     "name": "stdout",
     "output_type": "stream",
     "text": [
      "8.04 done\n"
     ]
    },
    {
     "name": "stderr",
     "output_type": "stream",
     "text": [
      "c:\\python39\\lib\\site-packages\\statsmodels\\regression\\linear_model.py:903: RuntimeWarning: divide by zero encountered in log\n",
      "  llf = -nobs2*np.log(2*np.pi) - nobs2*np.log(ssr / nobs) - nobs2\n"
     ]
    },
    {
     "name": "stdout",
     "output_type": "stream",
     "text": [
      "8.93 done\n"
     ]
    },
    {
     "name": "stderr",
     "output_type": "stream",
     "text": [
      "c:\\python39\\lib\\site-packages\\statsmodels\\regression\\linear_model.py:903: RuntimeWarning: divide by zero encountered in log\n",
      "  llf = -nobs2*np.log(2*np.pi) - nobs2*np.log(ssr / nobs) - nobs2\n"
     ]
    },
    {
     "name": "stdout",
     "output_type": "stream",
     "text": [
      "9.82 done\n"
     ]
    },
    {
     "name": "stderr",
     "output_type": "stream",
     "text": [
      "c:\\python39\\lib\\site-packages\\statsmodels\\regression\\linear_model.py:903: RuntimeWarning: divide by zero encountered in log\n",
      "  llf = -nobs2*np.log(2*np.pi) - nobs2*np.log(ssr / nobs) - nobs2\n"
     ]
    },
    {
     "name": "stdout",
     "output_type": "stream",
     "text": [
      "10.71 done\n"
     ]
    },
    {
     "name": "stderr",
     "output_type": "stream",
     "text": [
      "c:\\python39\\lib\\site-packages\\statsmodels\\regression\\linear_model.py:903: RuntimeWarning: divide by zero encountered in log\n",
      "  llf = -nobs2*np.log(2*np.pi) - nobs2*np.log(ssr / nobs) - nobs2\n"
     ]
    },
    {
     "name": "stdout",
     "output_type": "stream",
     "text": [
      "11.61 done\n"
     ]
    },
    {
     "name": "stderr",
     "output_type": "stream",
     "text": [
      "c:\\python39\\lib\\site-packages\\statsmodels\\regression\\linear_model.py:903: RuntimeWarning: divide by zero encountered in log\n",
      "  llf = -nobs2*np.log(2*np.pi) - nobs2*np.log(ssr / nobs) - nobs2\n"
     ]
    },
    {
     "name": "stdout",
     "output_type": "stream",
     "text": [
      "12.50 done\n"
     ]
    },
    {
     "name": "stderr",
     "output_type": "stream",
     "text": [
      "c:\\python39\\lib\\site-packages\\statsmodels\\regression\\linear_model.py:903: RuntimeWarning: divide by zero encountered in log\n",
      "  llf = -nobs2*np.log(2*np.pi) - nobs2*np.log(ssr / nobs) - nobs2\n"
     ]
    },
    {
     "name": "stdout",
     "output_type": "stream",
     "text": [
      "13.39 done\n"
     ]
    },
    {
     "name": "stderr",
     "output_type": "stream",
     "text": [
      "c:\\python39\\lib\\site-packages\\statsmodels\\regression\\linear_model.py:903: RuntimeWarning: divide by zero encountered in log\n",
      "  llf = -nobs2*np.log(2*np.pi) - nobs2*np.log(ssr / nobs) - nobs2\n"
     ]
    },
    {
     "name": "stdout",
     "output_type": "stream",
     "text": [
      "14.29 done\n"
     ]
    },
    {
     "name": "stderr",
     "output_type": "stream",
     "text": [
      "c:\\python39\\lib\\site-packages\\statsmodels\\regression\\linear_model.py:903: RuntimeWarning: divide by zero encountered in log\n",
      "  llf = -nobs2*np.log(2*np.pi) - nobs2*np.log(ssr / nobs) - nobs2\n"
     ]
    },
    {
     "name": "stdout",
     "output_type": "stream",
     "text": [
      "15.18 done\n"
     ]
    },
    {
     "name": "stderr",
     "output_type": "stream",
     "text": [
      "c:\\python39\\lib\\site-packages\\statsmodels\\regression\\linear_model.py:903: RuntimeWarning: divide by zero encountered in log\n",
      "  llf = -nobs2*np.log(2*np.pi) - nobs2*np.log(ssr / nobs) - nobs2\n"
     ]
    },
    {
     "name": "stdout",
     "output_type": "stream",
     "text": [
      "16.07 done\n"
     ]
    },
    {
     "name": "stderr",
     "output_type": "stream",
     "text": [
      "c:\\python39\\lib\\site-packages\\statsmodels\\regression\\linear_model.py:903: RuntimeWarning: divide by zero encountered in log\n",
      "  llf = -nobs2*np.log(2*np.pi) - nobs2*np.log(ssr / nobs) - nobs2\n"
     ]
    },
    {
     "name": "stdout",
     "output_type": "stream",
     "text": [
      "16.96 done\n"
     ]
    },
    {
     "name": "stderr",
     "output_type": "stream",
     "text": [
      "c:\\python39\\lib\\site-packages\\statsmodels\\regression\\linear_model.py:903: RuntimeWarning: divide by zero encountered in log\n",
      "  llf = -nobs2*np.log(2*np.pi) - nobs2*np.log(ssr / nobs) - nobs2\n"
     ]
    },
    {
     "name": "stdout",
     "output_type": "stream",
     "text": [
      "17.86 done\n"
     ]
    },
    {
     "name": "stderr",
     "output_type": "stream",
     "text": [
      "c:\\python39\\lib\\site-packages\\statsmodels\\regression\\linear_model.py:903: RuntimeWarning: divide by zero encountered in log\n",
      "  llf = -nobs2*np.log(2*np.pi) - nobs2*np.log(ssr / nobs) - nobs2\n"
     ]
    },
    {
     "name": "stdout",
     "output_type": "stream",
     "text": [
      "18.75 done\n"
     ]
    },
    {
     "name": "stderr",
     "output_type": "stream",
     "text": [
      "c:\\python39\\lib\\site-packages\\statsmodels\\regression\\linear_model.py:903: RuntimeWarning: divide by zero encountered in log\n",
      "  llf = -nobs2*np.log(2*np.pi) - nobs2*np.log(ssr / nobs) - nobs2\n"
     ]
    },
    {
     "name": "stdout",
     "output_type": "stream",
     "text": [
      "19.64 done\n"
     ]
    },
    {
     "name": "stderr",
     "output_type": "stream",
     "text": [
      "c:\\python39\\lib\\site-packages\\statsmodels\\regression\\linear_model.py:903: RuntimeWarning: divide by zero encountered in log\n",
      "  llf = -nobs2*np.log(2*np.pi) - nobs2*np.log(ssr / nobs) - nobs2\n"
     ]
    },
    {
     "name": "stdout",
     "output_type": "stream",
     "text": [
      "20.54 done\n"
     ]
    },
    {
     "name": "stderr",
     "output_type": "stream",
     "text": [
      "c:\\python39\\lib\\site-packages\\statsmodels\\regression\\linear_model.py:903: RuntimeWarning: divide by zero encountered in log\n",
      "  llf = -nobs2*np.log(2*np.pi) - nobs2*np.log(ssr / nobs) - nobs2\n"
     ]
    },
    {
     "name": "stdout",
     "output_type": "stream",
     "text": [
      "21.43 done\n"
     ]
    },
    {
     "name": "stderr",
     "output_type": "stream",
     "text": [
      "c:\\python39\\lib\\site-packages\\statsmodels\\regression\\linear_model.py:903: RuntimeWarning: divide by zero encountered in log\n",
      "  llf = -nobs2*np.log(2*np.pi) - nobs2*np.log(ssr / nobs) - nobs2\n"
     ]
    },
    {
     "name": "stdout",
     "output_type": "stream",
     "text": [
      "22.32 done\n"
     ]
    },
    {
     "name": "stderr",
     "output_type": "stream",
     "text": [
      "c:\\python39\\lib\\site-packages\\statsmodels\\regression\\linear_model.py:903: RuntimeWarning: divide by zero encountered in log\n",
      "  llf = -nobs2*np.log(2*np.pi) - nobs2*np.log(ssr / nobs) - nobs2\n"
     ]
    },
    {
     "name": "stdout",
     "output_type": "stream",
     "text": [
      "23.21 done\n"
     ]
    },
    {
     "name": "stderr",
     "output_type": "stream",
     "text": [
      "c:\\python39\\lib\\site-packages\\statsmodels\\regression\\linear_model.py:903: RuntimeWarning: divide by zero encountered in log\n",
      "  llf = -nobs2*np.log(2*np.pi) - nobs2*np.log(ssr / nobs) - nobs2\n"
     ]
    },
    {
     "name": "stdout",
     "output_type": "stream",
     "text": [
      "24.11 done\n"
     ]
    },
    {
     "name": "stderr",
     "output_type": "stream",
     "text": [
      "c:\\python39\\lib\\site-packages\\statsmodels\\regression\\linear_model.py:903: RuntimeWarning: divide by zero encountered in log\n",
      "  llf = -nobs2*np.log(2*np.pi) - nobs2*np.log(ssr / nobs) - nobs2\n"
     ]
    },
    {
     "name": "stdout",
     "output_type": "stream",
     "text": [
      "25.00 done\n"
     ]
    },
    {
     "name": "stderr",
     "output_type": "stream",
     "text": [
      "c:\\python39\\lib\\site-packages\\statsmodels\\regression\\linear_model.py:903: RuntimeWarning: divide by zero encountered in log\n",
      "  llf = -nobs2*np.log(2*np.pi) - nobs2*np.log(ssr / nobs) - nobs2\n"
     ]
    },
    {
     "name": "stdout",
     "output_type": "stream",
     "text": [
      "25.89 done\n"
     ]
    },
    {
     "name": "stderr",
     "output_type": "stream",
     "text": [
      "c:\\python39\\lib\\site-packages\\statsmodels\\regression\\linear_model.py:903: RuntimeWarning: divide by zero encountered in log\n",
      "  llf = -nobs2*np.log(2*np.pi) - nobs2*np.log(ssr / nobs) - nobs2\n"
     ]
    },
    {
     "name": "stdout",
     "output_type": "stream",
     "text": [
      "26.79 done\n"
     ]
    },
    {
     "name": "stderr",
     "output_type": "stream",
     "text": [
      "c:\\python39\\lib\\site-packages\\statsmodels\\regression\\linear_model.py:903: RuntimeWarning: divide by zero encountered in log\n",
      "  llf = -nobs2*np.log(2*np.pi) - nobs2*np.log(ssr / nobs) - nobs2\n"
     ]
    },
    {
     "name": "stdout",
     "output_type": "stream",
     "text": [
      "27.68 done\n"
     ]
    },
    {
     "name": "stderr",
     "output_type": "stream",
     "text": [
      "c:\\python39\\lib\\site-packages\\statsmodels\\regression\\linear_model.py:903: RuntimeWarning: divide by zero encountered in log\n",
      "  llf = -nobs2*np.log(2*np.pi) - nobs2*np.log(ssr / nobs) - nobs2\n"
     ]
    },
    {
     "name": "stdout",
     "output_type": "stream",
     "text": [
      "28.57 done\n"
     ]
    },
    {
     "name": "stderr",
     "output_type": "stream",
     "text": [
      "c:\\python39\\lib\\site-packages\\statsmodels\\regression\\linear_model.py:903: RuntimeWarning: divide by zero encountered in log\n",
      "  llf = -nobs2*np.log(2*np.pi) - nobs2*np.log(ssr / nobs) - nobs2\n"
     ]
    },
    {
     "name": "stdout",
     "output_type": "stream",
     "text": [
      "29.46 done\n"
     ]
    },
    {
     "name": "stderr",
     "output_type": "stream",
     "text": [
      "c:\\python39\\lib\\site-packages\\statsmodels\\regression\\linear_model.py:903: RuntimeWarning: divide by zero encountered in log\n",
      "  llf = -nobs2*np.log(2*np.pi) - nobs2*np.log(ssr / nobs) - nobs2\n"
     ]
    },
    {
     "name": "stdout",
     "output_type": "stream",
     "text": [
      "30.36 done\n"
     ]
    },
    {
     "name": "stderr",
     "output_type": "stream",
     "text": [
      "c:\\python39\\lib\\site-packages\\statsmodels\\regression\\linear_model.py:903: RuntimeWarning: divide by zero encountered in log\n",
      "  llf = -nobs2*np.log(2*np.pi) - nobs2*np.log(ssr / nobs) - nobs2\n"
     ]
    },
    {
     "name": "stdout",
     "output_type": "stream",
     "text": [
      "31.25 done\n"
     ]
    },
    {
     "name": "stderr",
     "output_type": "stream",
     "text": [
      "c:\\python39\\lib\\site-packages\\statsmodels\\regression\\linear_model.py:903: RuntimeWarning: divide by zero encountered in log\n",
      "  llf = -nobs2*np.log(2*np.pi) - nobs2*np.log(ssr / nobs) - nobs2\n"
     ]
    },
    {
     "name": "stdout",
     "output_type": "stream",
     "text": [
      "32.14 done\n"
     ]
    },
    {
     "name": "stderr",
     "output_type": "stream",
     "text": [
      "c:\\python39\\lib\\site-packages\\statsmodels\\regression\\linear_model.py:903: RuntimeWarning: divide by zero encountered in log\n",
      "  llf = -nobs2*np.log(2*np.pi) - nobs2*np.log(ssr / nobs) - nobs2\n"
     ]
    },
    {
     "name": "stdout",
     "output_type": "stream",
     "text": [
      "33.04 done\n"
     ]
    },
    {
     "name": "stderr",
     "output_type": "stream",
     "text": [
      "c:\\python39\\lib\\site-packages\\statsmodels\\regression\\linear_model.py:903: RuntimeWarning: divide by zero encountered in log\n",
      "  llf = -nobs2*np.log(2*np.pi) - nobs2*np.log(ssr / nobs) - nobs2\n"
     ]
    },
    {
     "name": "stdout",
     "output_type": "stream",
     "text": [
      "33.93 done\n"
     ]
    },
    {
     "name": "stderr",
     "output_type": "stream",
     "text": [
      "c:\\python39\\lib\\site-packages\\statsmodels\\regression\\linear_model.py:903: RuntimeWarning: divide by zero encountered in log\n",
      "  llf = -nobs2*np.log(2*np.pi) - nobs2*np.log(ssr / nobs) - nobs2\n"
     ]
    },
    {
     "name": "stdout",
     "output_type": "stream",
     "text": [
      "34.82 done\n"
     ]
    },
    {
     "name": "stderr",
     "output_type": "stream",
     "text": [
      "c:\\python39\\lib\\site-packages\\statsmodels\\regression\\linear_model.py:903: RuntimeWarning: divide by zero encountered in log\n",
      "  llf = -nobs2*np.log(2*np.pi) - nobs2*np.log(ssr / nobs) - nobs2\n"
     ]
    },
    {
     "name": "stdout",
     "output_type": "stream",
     "text": [
      "35.71 done\n"
     ]
    },
    {
     "name": "stderr",
     "output_type": "stream",
     "text": [
      "c:\\python39\\lib\\site-packages\\statsmodels\\regression\\linear_model.py:903: RuntimeWarning: divide by zero encountered in log\n",
      "  llf = -nobs2*np.log(2*np.pi) - nobs2*np.log(ssr / nobs) - nobs2\n"
     ]
    },
    {
     "name": "stdout",
     "output_type": "stream",
     "text": [
      "36.61 done\n"
     ]
    },
    {
     "name": "stderr",
     "output_type": "stream",
     "text": [
      "c:\\python39\\lib\\site-packages\\statsmodels\\regression\\linear_model.py:903: RuntimeWarning: divide by zero encountered in log\n",
      "  llf = -nobs2*np.log(2*np.pi) - nobs2*np.log(ssr / nobs) - nobs2\n"
     ]
    },
    {
     "name": "stdout",
     "output_type": "stream",
     "text": [
      "37.50 done\n"
     ]
    },
    {
     "name": "stderr",
     "output_type": "stream",
     "text": [
      "c:\\python39\\lib\\site-packages\\statsmodels\\regression\\linear_model.py:903: RuntimeWarning: divide by zero encountered in log\n",
      "  llf = -nobs2*np.log(2*np.pi) - nobs2*np.log(ssr / nobs) - nobs2\n"
     ]
    },
    {
     "name": "stdout",
     "output_type": "stream",
     "text": [
      "38.39 done\n"
     ]
    },
    {
     "name": "stderr",
     "output_type": "stream",
     "text": [
      "c:\\python39\\lib\\site-packages\\statsmodels\\regression\\linear_model.py:903: RuntimeWarning: divide by zero encountered in log\n",
      "  llf = -nobs2*np.log(2*np.pi) - nobs2*np.log(ssr / nobs) - nobs2\n"
     ]
    },
    {
     "name": "stdout",
     "output_type": "stream",
     "text": [
      "39.29 done\n"
     ]
    },
    {
     "name": "stderr",
     "output_type": "stream",
     "text": [
      "c:\\python39\\lib\\site-packages\\statsmodels\\regression\\linear_model.py:903: RuntimeWarning: divide by zero encountered in log\n",
      "  llf = -nobs2*np.log(2*np.pi) - nobs2*np.log(ssr / nobs) - nobs2\n"
     ]
    },
    {
     "name": "stdout",
     "output_type": "stream",
     "text": [
      "40.18 done\n"
     ]
    },
    {
     "name": "stderr",
     "output_type": "stream",
     "text": [
      "c:\\python39\\lib\\site-packages\\statsmodels\\regression\\linear_model.py:903: RuntimeWarning: divide by zero encountered in log\n",
      "  llf = -nobs2*np.log(2*np.pi) - nobs2*np.log(ssr / nobs) - nobs2\n"
     ]
    },
    {
     "name": "stdout",
     "output_type": "stream",
     "text": [
      "41.07 done\n"
     ]
    },
    {
     "name": "stderr",
     "output_type": "stream",
     "text": [
      "c:\\python39\\lib\\site-packages\\statsmodels\\regression\\linear_model.py:903: RuntimeWarning: divide by zero encountered in log\n",
      "  llf = -nobs2*np.log(2*np.pi) - nobs2*np.log(ssr / nobs) - nobs2\n"
     ]
    },
    {
     "name": "stdout",
     "output_type": "stream",
     "text": [
      "41.96 done\n"
     ]
    },
    {
     "name": "stderr",
     "output_type": "stream",
     "text": [
      "c:\\python39\\lib\\site-packages\\statsmodels\\regression\\linear_model.py:903: RuntimeWarning: divide by zero encountered in log\n",
      "  llf = -nobs2*np.log(2*np.pi) - nobs2*np.log(ssr / nobs) - nobs2\n"
     ]
    },
    {
     "name": "stdout",
     "output_type": "stream",
     "text": [
      "42.86 done\n"
     ]
    },
    {
     "name": "stderr",
     "output_type": "stream",
     "text": [
      "c:\\python39\\lib\\site-packages\\statsmodels\\regression\\linear_model.py:903: RuntimeWarning: divide by zero encountered in log\n",
      "  llf = -nobs2*np.log(2*np.pi) - nobs2*np.log(ssr / nobs) - nobs2\n"
     ]
    },
    {
     "name": "stdout",
     "output_type": "stream",
     "text": [
      "43.75 done\n"
     ]
    },
    {
     "name": "stderr",
     "output_type": "stream",
     "text": [
      "c:\\python39\\lib\\site-packages\\statsmodels\\regression\\linear_model.py:903: RuntimeWarning: divide by zero encountered in log\n",
      "  llf = -nobs2*np.log(2*np.pi) - nobs2*np.log(ssr / nobs) - nobs2\n"
     ]
    },
    {
     "name": "stdout",
     "output_type": "stream",
     "text": [
      "44.64 done\n"
     ]
    },
    {
     "name": "stderr",
     "output_type": "stream",
     "text": [
      "c:\\python39\\lib\\site-packages\\statsmodels\\regression\\linear_model.py:903: RuntimeWarning: divide by zero encountered in log\n",
      "  llf = -nobs2*np.log(2*np.pi) - nobs2*np.log(ssr / nobs) - nobs2\n"
     ]
    },
    {
     "name": "stdout",
     "output_type": "stream",
     "text": [
      "45.54 done\n"
     ]
    },
    {
     "name": "stderr",
     "output_type": "stream",
     "text": [
      "c:\\python39\\lib\\site-packages\\statsmodels\\regression\\linear_model.py:903: RuntimeWarning: divide by zero encountered in log\n",
      "  llf = -nobs2*np.log(2*np.pi) - nobs2*np.log(ssr / nobs) - nobs2\n"
     ]
    },
    {
     "name": "stdout",
     "output_type": "stream",
     "text": [
      "46.43 done\n"
     ]
    },
    {
     "name": "stderr",
     "output_type": "stream",
     "text": [
      "c:\\python39\\lib\\site-packages\\statsmodels\\regression\\linear_model.py:903: RuntimeWarning: divide by zero encountered in log\n",
      "  llf = -nobs2*np.log(2*np.pi) - nobs2*np.log(ssr / nobs) - nobs2\n"
     ]
    },
    {
     "name": "stdout",
     "output_type": "stream",
     "text": [
      "47.32 done\n"
     ]
    },
    {
     "name": "stderr",
     "output_type": "stream",
     "text": [
      "c:\\python39\\lib\\site-packages\\statsmodels\\regression\\linear_model.py:903: RuntimeWarning: divide by zero encountered in log\n",
      "  llf = -nobs2*np.log(2*np.pi) - nobs2*np.log(ssr / nobs) - nobs2\n"
     ]
    },
    {
     "name": "stdout",
     "output_type": "stream",
     "text": [
      "48.21 done\n"
     ]
    },
    {
     "name": "stderr",
     "output_type": "stream",
     "text": [
      "c:\\python39\\lib\\site-packages\\statsmodels\\regression\\linear_model.py:903: RuntimeWarning: divide by zero encountered in log\n",
      "  llf = -nobs2*np.log(2*np.pi) - nobs2*np.log(ssr / nobs) - nobs2\n"
     ]
    },
    {
     "name": "stdout",
     "output_type": "stream",
     "text": [
      "49.11 done\n"
     ]
    },
    {
     "name": "stderr",
     "output_type": "stream",
     "text": [
      "c:\\python39\\lib\\site-packages\\statsmodels\\regression\\linear_model.py:903: RuntimeWarning: divide by zero encountered in log\n",
      "  llf = -nobs2*np.log(2*np.pi) - nobs2*np.log(ssr / nobs) - nobs2\n"
     ]
    },
    {
     "name": "stdout",
     "output_type": "stream",
     "text": [
      "50.00 done\n"
     ]
    },
    {
     "name": "stderr",
     "output_type": "stream",
     "text": [
      "c:\\python39\\lib\\site-packages\\statsmodels\\regression\\linear_model.py:903: RuntimeWarning: divide by zero encountered in log\n",
      "  llf = -nobs2*np.log(2*np.pi) - nobs2*np.log(ssr / nobs) - nobs2\n"
     ]
    },
    {
     "name": "stdout",
     "output_type": "stream",
     "text": [
      "50.89 done\n"
     ]
    },
    {
     "name": "stderr",
     "output_type": "stream",
     "text": [
      "c:\\python39\\lib\\site-packages\\statsmodels\\regression\\linear_model.py:903: RuntimeWarning: divide by zero encountered in log\n",
      "  llf = -nobs2*np.log(2*np.pi) - nobs2*np.log(ssr / nobs) - nobs2\n"
     ]
    },
    {
     "name": "stdout",
     "output_type": "stream",
     "text": [
      "51.79 done\n"
     ]
    },
    {
     "name": "stderr",
     "output_type": "stream",
     "text": [
      "c:\\python39\\lib\\site-packages\\statsmodels\\regression\\linear_model.py:903: RuntimeWarning: divide by zero encountered in log\n",
      "  llf = -nobs2*np.log(2*np.pi) - nobs2*np.log(ssr / nobs) - nobs2\n"
     ]
    },
    {
     "name": "stdout",
     "output_type": "stream",
     "text": [
      "52.68 done\n"
     ]
    },
    {
     "name": "stderr",
     "output_type": "stream",
     "text": [
      "c:\\python39\\lib\\site-packages\\statsmodels\\regression\\linear_model.py:903: RuntimeWarning: divide by zero encountered in log\n",
      "  llf = -nobs2*np.log(2*np.pi) - nobs2*np.log(ssr / nobs) - nobs2\n"
     ]
    },
    {
     "name": "stdout",
     "output_type": "stream",
     "text": [
      "53.57 done\n"
     ]
    },
    {
     "name": "stderr",
     "output_type": "stream",
     "text": [
      "c:\\python39\\lib\\site-packages\\statsmodels\\regression\\linear_model.py:903: RuntimeWarning: divide by zero encountered in log\n",
      "  llf = -nobs2*np.log(2*np.pi) - nobs2*np.log(ssr / nobs) - nobs2\n"
     ]
    },
    {
     "name": "stdout",
     "output_type": "stream",
     "text": [
      "54.46 done\n"
     ]
    },
    {
     "name": "stderr",
     "output_type": "stream",
     "text": [
      "c:\\python39\\lib\\site-packages\\statsmodels\\regression\\linear_model.py:903: RuntimeWarning: divide by zero encountered in log\n",
      "  llf = -nobs2*np.log(2*np.pi) - nobs2*np.log(ssr / nobs) - nobs2\n"
     ]
    },
    {
     "name": "stdout",
     "output_type": "stream",
     "text": [
      "55.36 done\n"
     ]
    },
    {
     "name": "stderr",
     "output_type": "stream",
     "text": [
      "c:\\python39\\lib\\site-packages\\statsmodels\\regression\\linear_model.py:903: RuntimeWarning: divide by zero encountered in log\n",
      "  llf = -nobs2*np.log(2*np.pi) - nobs2*np.log(ssr / nobs) - nobs2\n"
     ]
    },
    {
     "name": "stdout",
     "output_type": "stream",
     "text": [
      "56.25 done\n"
     ]
    },
    {
     "name": "stderr",
     "output_type": "stream",
     "text": [
      "c:\\python39\\lib\\site-packages\\statsmodels\\regression\\linear_model.py:903: RuntimeWarning: divide by zero encountered in log\n",
      "  llf = -nobs2*np.log(2*np.pi) - nobs2*np.log(ssr / nobs) - nobs2\n"
     ]
    },
    {
     "name": "stdout",
     "output_type": "stream",
     "text": [
      "57.14 done\n"
     ]
    },
    {
     "name": "stderr",
     "output_type": "stream",
     "text": [
      "c:\\python39\\lib\\site-packages\\statsmodels\\regression\\linear_model.py:903: RuntimeWarning: divide by zero encountered in log\n",
      "  llf = -nobs2*np.log(2*np.pi) - nobs2*np.log(ssr / nobs) - nobs2\n"
     ]
    },
    {
     "name": "stdout",
     "output_type": "stream",
     "text": [
      "58.04 done\n"
     ]
    },
    {
     "name": "stderr",
     "output_type": "stream",
     "text": [
      "c:\\python39\\lib\\site-packages\\statsmodels\\regression\\linear_model.py:903: RuntimeWarning: divide by zero encountered in log\n",
      "  llf = -nobs2*np.log(2*np.pi) - nobs2*np.log(ssr / nobs) - nobs2\n"
     ]
    },
    {
     "name": "stdout",
     "output_type": "stream",
     "text": [
      "58.93 done\n"
     ]
    },
    {
     "name": "stderr",
     "output_type": "stream",
     "text": [
      "c:\\python39\\lib\\site-packages\\statsmodels\\regression\\linear_model.py:903: RuntimeWarning: divide by zero encountered in log\n",
      "  llf = -nobs2*np.log(2*np.pi) - nobs2*np.log(ssr / nobs) - nobs2\n"
     ]
    },
    {
     "name": "stdout",
     "output_type": "stream",
     "text": [
      "59.82 done\n"
     ]
    },
    {
     "name": "stderr",
     "output_type": "stream",
     "text": [
      "c:\\python39\\lib\\site-packages\\statsmodels\\regression\\linear_model.py:903: RuntimeWarning: divide by zero encountered in log\n",
      "  llf = -nobs2*np.log(2*np.pi) - nobs2*np.log(ssr / nobs) - nobs2\n"
     ]
    },
    {
     "name": "stdout",
     "output_type": "stream",
     "text": [
      "60.71 done\n"
     ]
    },
    {
     "name": "stderr",
     "output_type": "stream",
     "text": [
      "c:\\python39\\lib\\site-packages\\statsmodels\\regression\\linear_model.py:903: RuntimeWarning: divide by zero encountered in log\n",
      "  llf = -nobs2*np.log(2*np.pi) - nobs2*np.log(ssr / nobs) - nobs2\n"
     ]
    },
    {
     "name": "stdout",
     "output_type": "stream",
     "text": [
      "61.61 done\n"
     ]
    },
    {
     "name": "stderr",
     "output_type": "stream",
     "text": [
      "c:\\python39\\lib\\site-packages\\statsmodels\\regression\\linear_model.py:903: RuntimeWarning: divide by zero encountered in log\n",
      "  llf = -nobs2*np.log(2*np.pi) - nobs2*np.log(ssr / nobs) - nobs2\n"
     ]
    },
    {
     "name": "stdout",
     "output_type": "stream",
     "text": [
      "62.50 done\n"
     ]
    },
    {
     "name": "stderr",
     "output_type": "stream",
     "text": [
      "c:\\python39\\lib\\site-packages\\statsmodels\\regression\\linear_model.py:903: RuntimeWarning: divide by zero encountered in log\n",
      "  llf = -nobs2*np.log(2*np.pi) - nobs2*np.log(ssr / nobs) - nobs2\n"
     ]
    },
    {
     "name": "stdout",
     "output_type": "stream",
     "text": [
      "63.39 done\n"
     ]
    },
    {
     "name": "stderr",
     "output_type": "stream",
     "text": [
      "c:\\python39\\lib\\site-packages\\statsmodels\\regression\\linear_model.py:903: RuntimeWarning: divide by zero encountered in log\n",
      "  llf = -nobs2*np.log(2*np.pi) - nobs2*np.log(ssr / nobs) - nobs2\n"
     ]
    },
    {
     "name": "stdout",
     "output_type": "stream",
     "text": [
      "64.29 done\n"
     ]
    },
    {
     "name": "stderr",
     "output_type": "stream",
     "text": [
      "c:\\python39\\lib\\site-packages\\statsmodels\\regression\\linear_model.py:903: RuntimeWarning: divide by zero encountered in log\n",
      "  llf = -nobs2*np.log(2*np.pi) - nobs2*np.log(ssr / nobs) - nobs2\n"
     ]
    },
    {
     "name": "stdout",
     "output_type": "stream",
     "text": [
      "65.18 done\n"
     ]
    },
    {
     "name": "stderr",
     "output_type": "stream",
     "text": [
      "c:\\python39\\lib\\site-packages\\statsmodels\\regression\\linear_model.py:903: RuntimeWarning: divide by zero encountered in log\n",
      "  llf = -nobs2*np.log(2*np.pi) - nobs2*np.log(ssr / nobs) - nobs2\n"
     ]
    },
    {
     "name": "stdout",
     "output_type": "stream",
     "text": [
      "66.07 done\n"
     ]
    },
    {
     "name": "stderr",
     "output_type": "stream",
     "text": [
      "c:\\python39\\lib\\site-packages\\statsmodels\\regression\\linear_model.py:903: RuntimeWarning: divide by zero encountered in log\n",
      "  llf = -nobs2*np.log(2*np.pi) - nobs2*np.log(ssr / nobs) - nobs2\n"
     ]
    },
    {
     "name": "stdout",
     "output_type": "stream",
     "text": [
      "66.96 done\n"
     ]
    },
    {
     "name": "stderr",
     "output_type": "stream",
     "text": [
      "c:\\python39\\lib\\site-packages\\statsmodels\\regression\\linear_model.py:903: RuntimeWarning: divide by zero encountered in log\n",
      "  llf = -nobs2*np.log(2*np.pi) - nobs2*np.log(ssr / nobs) - nobs2\n"
     ]
    },
    {
     "name": "stdout",
     "output_type": "stream",
     "text": [
      "67.86 done\n"
     ]
    },
    {
     "name": "stderr",
     "output_type": "stream",
     "text": [
      "c:\\python39\\lib\\site-packages\\statsmodels\\regression\\linear_model.py:903: RuntimeWarning: divide by zero encountered in log\n",
      "  llf = -nobs2*np.log(2*np.pi) - nobs2*np.log(ssr / nobs) - nobs2\n"
     ]
    },
    {
     "name": "stdout",
     "output_type": "stream",
     "text": [
      "68.75 done\n"
     ]
    },
    {
     "name": "stderr",
     "output_type": "stream",
     "text": [
      "c:\\python39\\lib\\site-packages\\statsmodels\\regression\\linear_model.py:903: RuntimeWarning: divide by zero encountered in log\n",
      "  llf = -nobs2*np.log(2*np.pi) - nobs2*np.log(ssr / nobs) - nobs2\n"
     ]
    },
    {
     "name": "stdout",
     "output_type": "stream",
     "text": [
      "69.64 done\n"
     ]
    },
    {
     "name": "stderr",
     "output_type": "stream",
     "text": [
      "c:\\python39\\lib\\site-packages\\statsmodels\\regression\\linear_model.py:903: RuntimeWarning: divide by zero encountered in log\n",
      "  llf = -nobs2*np.log(2*np.pi) - nobs2*np.log(ssr / nobs) - nobs2\n"
     ]
    },
    {
     "name": "stdout",
     "output_type": "stream",
     "text": [
      "70.54 done\n"
     ]
    },
    {
     "name": "stderr",
     "output_type": "stream",
     "text": [
      "c:\\python39\\lib\\site-packages\\statsmodels\\regression\\linear_model.py:903: RuntimeWarning: divide by zero encountered in log\n",
      "  llf = -nobs2*np.log(2*np.pi) - nobs2*np.log(ssr / nobs) - nobs2\n"
     ]
    },
    {
     "name": "stdout",
     "output_type": "stream",
     "text": [
      "71.43 done\n"
     ]
    },
    {
     "name": "stderr",
     "output_type": "stream",
     "text": [
      "c:\\python39\\lib\\site-packages\\statsmodels\\regression\\linear_model.py:903: RuntimeWarning: divide by zero encountered in log\n",
      "  llf = -nobs2*np.log(2*np.pi) - nobs2*np.log(ssr / nobs) - nobs2\n"
     ]
    },
    {
     "name": "stdout",
     "output_type": "stream",
     "text": [
      "72.32 done\n"
     ]
    },
    {
     "name": "stderr",
     "output_type": "stream",
     "text": [
      "c:\\python39\\lib\\site-packages\\statsmodels\\regression\\linear_model.py:903: RuntimeWarning: divide by zero encountered in log\n",
      "  llf = -nobs2*np.log(2*np.pi) - nobs2*np.log(ssr / nobs) - nobs2\n"
     ]
    },
    {
     "name": "stdout",
     "output_type": "stream",
     "text": [
      "73.21 done\n"
     ]
    },
    {
     "name": "stderr",
     "output_type": "stream",
     "text": [
      "c:\\python39\\lib\\site-packages\\statsmodels\\regression\\linear_model.py:903: RuntimeWarning: divide by zero encountered in log\n",
      "  llf = -nobs2*np.log(2*np.pi) - nobs2*np.log(ssr / nobs) - nobs2\n"
     ]
    },
    {
     "name": "stdout",
     "output_type": "stream",
     "text": [
      "74.11 done\n"
     ]
    },
    {
     "name": "stderr",
     "output_type": "stream",
     "text": [
      "c:\\python39\\lib\\site-packages\\statsmodels\\regression\\linear_model.py:903: RuntimeWarning: divide by zero encountered in log\n",
      "  llf = -nobs2*np.log(2*np.pi) - nobs2*np.log(ssr / nobs) - nobs2\n"
     ]
    },
    {
     "name": "stdout",
     "output_type": "stream",
     "text": [
      "75.00 done\n"
     ]
    },
    {
     "name": "stderr",
     "output_type": "stream",
     "text": [
      "c:\\python39\\lib\\site-packages\\statsmodels\\regression\\linear_model.py:903: RuntimeWarning: divide by zero encountered in log\n",
      "  llf = -nobs2*np.log(2*np.pi) - nobs2*np.log(ssr / nobs) - nobs2\n"
     ]
    },
    {
     "name": "stdout",
     "output_type": "stream",
     "text": [
      "75.89 done\n"
     ]
    },
    {
     "name": "stderr",
     "output_type": "stream",
     "text": [
      "c:\\python39\\lib\\site-packages\\statsmodels\\regression\\linear_model.py:903: RuntimeWarning: divide by zero encountered in log\n",
      "  llf = -nobs2*np.log(2*np.pi) - nobs2*np.log(ssr / nobs) - nobs2\n"
     ]
    },
    {
     "name": "stdout",
     "output_type": "stream",
     "text": [
      "76.79 done\n"
     ]
    },
    {
     "name": "stderr",
     "output_type": "stream",
     "text": [
      "c:\\python39\\lib\\site-packages\\statsmodels\\regression\\linear_model.py:903: RuntimeWarning: divide by zero encountered in log\n",
      "  llf = -nobs2*np.log(2*np.pi) - nobs2*np.log(ssr / nobs) - nobs2\n"
     ]
    },
    {
     "name": "stdout",
     "output_type": "stream",
     "text": [
      "77.68 done\n"
     ]
    },
    {
     "name": "stderr",
     "output_type": "stream",
     "text": [
      "c:\\python39\\lib\\site-packages\\statsmodels\\regression\\linear_model.py:903: RuntimeWarning: divide by zero encountered in log\n",
      "  llf = -nobs2*np.log(2*np.pi) - nobs2*np.log(ssr / nobs) - nobs2\n"
     ]
    },
    {
     "name": "stdout",
     "output_type": "stream",
     "text": [
      "78.57 done\n"
     ]
    },
    {
     "name": "stderr",
     "output_type": "stream",
     "text": [
      "c:\\python39\\lib\\site-packages\\statsmodels\\regression\\linear_model.py:903: RuntimeWarning: divide by zero encountered in log\n",
      "  llf = -nobs2*np.log(2*np.pi) - nobs2*np.log(ssr / nobs) - nobs2\n"
     ]
    },
    {
     "name": "stdout",
     "output_type": "stream",
     "text": [
      "79.46 done\n"
     ]
    },
    {
     "name": "stderr",
     "output_type": "stream",
     "text": [
      "c:\\python39\\lib\\site-packages\\statsmodels\\regression\\linear_model.py:903: RuntimeWarning: divide by zero encountered in log\n",
      "  llf = -nobs2*np.log(2*np.pi) - nobs2*np.log(ssr / nobs) - nobs2\n"
     ]
    },
    {
     "name": "stdout",
     "output_type": "stream",
     "text": [
      "80.36 done\n"
     ]
    },
    {
     "name": "stderr",
     "output_type": "stream",
     "text": [
      "c:\\python39\\lib\\site-packages\\statsmodels\\regression\\linear_model.py:903: RuntimeWarning: divide by zero encountered in log\n",
      "  llf = -nobs2*np.log(2*np.pi) - nobs2*np.log(ssr / nobs) - nobs2\n"
     ]
    },
    {
     "name": "stdout",
     "output_type": "stream",
     "text": [
      "81.25 done\n"
     ]
    },
    {
     "name": "stderr",
     "output_type": "stream",
     "text": [
      "c:\\python39\\lib\\site-packages\\statsmodels\\regression\\linear_model.py:903: RuntimeWarning: divide by zero encountered in log\n",
      "  llf = -nobs2*np.log(2*np.pi) - nobs2*np.log(ssr / nobs) - nobs2\n"
     ]
    },
    {
     "name": "stdout",
     "output_type": "stream",
     "text": [
      "82.14 done\n"
     ]
    },
    {
     "name": "stderr",
     "output_type": "stream",
     "text": [
      "c:\\python39\\lib\\site-packages\\statsmodels\\regression\\linear_model.py:903: RuntimeWarning: divide by zero encountered in log\n",
      "  llf = -nobs2*np.log(2*np.pi) - nobs2*np.log(ssr / nobs) - nobs2\n"
     ]
    },
    {
     "name": "stdout",
     "output_type": "stream",
     "text": [
      "83.04 done\n"
     ]
    },
    {
     "name": "stderr",
     "output_type": "stream",
     "text": [
      "c:\\python39\\lib\\site-packages\\statsmodels\\regression\\linear_model.py:903: RuntimeWarning: divide by zero encountered in log\n",
      "  llf = -nobs2*np.log(2*np.pi) - nobs2*np.log(ssr / nobs) - nobs2\n"
     ]
    },
    {
     "name": "stdout",
     "output_type": "stream",
     "text": [
      "83.93 done\n"
     ]
    },
    {
     "name": "stderr",
     "output_type": "stream",
     "text": [
      "c:\\python39\\lib\\site-packages\\statsmodels\\regression\\linear_model.py:1715: RuntimeWarning: divide by zero encountered in double_scalars\n",
      "  return 1 - self.ssr/self.centered_tss\n",
      "c:\\python39\\lib\\site-packages\\statsmodels\\regression\\linear_model.py:1715: RuntimeWarning: divide by zero encountered in double_scalars\n",
      "  return 1 - self.ssr/self.centered_tss\n",
      "c:\\python39\\lib\\site-packages\\statsmodels\\regression\\linear_model.py:1715: RuntimeWarning: divide by zero encountered in double_scalars\n",
      "  return 1 - self.ssr/self.centered_tss\n",
      "c:\\python39\\lib\\site-packages\\statsmodels\\regression\\linear_model.py:1715: RuntimeWarning: divide by zero encountered in double_scalars\n",
      "  return 1 - self.ssr/self.centered_tss\n",
      "c:\\python39\\lib\\site-packages\\statsmodels\\regression\\linear_model.py:1715: RuntimeWarning: divide by zero encountered in double_scalars\n",
      "  return 1 - self.ssr/self.centered_tss\n",
      "c:\\python39\\lib\\site-packages\\statsmodels\\regression\\linear_model.py:1715: RuntimeWarning: divide by zero encountered in double_scalars\n",
      "  return 1 - self.ssr/self.centered_tss\n",
      "c:\\python39\\lib\\site-packages\\statsmodels\\regression\\linear_model.py:1715: RuntimeWarning: divide by zero encountered in double_scalars\n",
      "  return 1 - self.ssr/self.centered_tss\n",
      "c:\\python39\\lib\\site-packages\\statsmodels\\regression\\linear_model.py:1715: RuntimeWarning: divide by zero encountered in double_scalars\n",
      "  return 1 - self.ssr/self.centered_tss\n",
      "c:\\python39\\lib\\site-packages\\statsmodels\\regression\\linear_model.py:903: RuntimeWarning: divide by zero encountered in log\n",
      "  llf = -nobs2*np.log(2*np.pi) - nobs2*np.log(ssr / nobs) - nobs2\n",
      "c:\\python39\\lib\\site-packages\\statsmodels\\regression\\linear_model.py:1715: RuntimeWarning: divide by zero encountered in double_scalars\n",
      "  return 1 - self.ssr/self.centered_tss\n",
      "c:\\python39\\lib\\site-packages\\statsmodels\\regression\\linear_model.py:1715: RuntimeWarning: divide by zero encountered in double_scalars\n",
      "  return 1 - self.ssr/self.centered_tss\n",
      "c:\\python39\\lib\\site-packages\\statsmodels\\regression\\linear_model.py:1715: RuntimeWarning: divide by zero encountered in double_scalars\n",
      "  return 1 - self.ssr/self.centered_tss\n",
      "c:\\python39\\lib\\site-packages\\statsmodels\\regression\\linear_model.py:1715: RuntimeWarning: divide by zero encountered in double_scalars\n",
      "  return 1 - self.ssr/self.centered_tss\n",
      "c:\\python39\\lib\\site-packages\\statsmodels\\regression\\linear_model.py:1715: RuntimeWarning: divide by zero encountered in double_scalars\n",
      "  return 1 - self.ssr/self.centered_tss\n",
      "c:\\python39\\lib\\site-packages\\statsmodels\\regression\\linear_model.py:1715: RuntimeWarning: divide by zero encountered in double_scalars\n",
      "  return 1 - self.ssr/self.centered_tss\n",
      "c:\\python39\\lib\\site-packages\\statsmodels\\regression\\linear_model.py:1715: RuntimeWarning: divide by zero encountered in double_scalars\n",
      "  return 1 - self.ssr/self.centered_tss\n",
      "c:\\python39\\lib\\site-packages\\statsmodels\\regression\\linear_model.py:1715: RuntimeWarning: divide by zero encountered in double_scalars\n",
      "  return 1 - self.ssr/self.centered_tss\n",
      "c:\\python39\\lib\\site-packages\\statsmodels\\regression\\linear_model.py:1715: RuntimeWarning: divide by zero encountered in double_scalars\n",
      "  return 1 - self.ssr/self.centered_tss\n",
      "c:\\python39\\lib\\site-packages\\statsmodels\\regression\\linear_model.py:1715: RuntimeWarning: divide by zero encountered in double_scalars\n",
      "  return 1 - self.ssr/self.centered_tss\n",
      "c:\\python39\\lib\\site-packages\\statsmodels\\regression\\linear_model.py:1715: RuntimeWarning: divide by zero encountered in double_scalars\n",
      "  return 1 - self.ssr/self.centered_tss\n",
      "c:\\python39\\lib\\site-packages\\statsmodels\\regression\\linear_model.py:1715: RuntimeWarning: divide by zero encountered in double_scalars\n",
      "  return 1 - self.ssr/self.centered_tss\n",
      "c:\\python39\\lib\\site-packages\\statsmodels\\regression\\linear_model.py:1715: RuntimeWarning: divide by zero encountered in double_scalars\n",
      "  return 1 - self.ssr/self.centered_tss\n",
      "c:\\python39\\lib\\site-packages\\statsmodels\\regression\\linear_model.py:1715: RuntimeWarning: divide by zero encountered in double_scalars\n",
      "  return 1 - self.ssr/self.centered_tss\n",
      "c:\\python39\\lib\\site-packages\\statsmodels\\regression\\linear_model.py:1715: RuntimeWarning: divide by zero encountered in double_scalars\n",
      "  return 1 - self.ssr/self.centered_tss\n",
      "c:\\python39\\lib\\site-packages\\statsmodels\\regression\\linear_model.py:1715: RuntimeWarning: divide by zero encountered in double_scalars\n",
      "  return 1 - self.ssr/self.centered_tss\n",
      "c:\\python39\\lib\\site-packages\\statsmodels\\regression\\linear_model.py:1715: RuntimeWarning: divide by zero encountered in double_scalars\n",
      "  return 1 - self.ssr/self.centered_tss\n",
      "c:\\python39\\lib\\site-packages\\statsmodels\\regression\\linear_model.py:1715: RuntimeWarning: divide by zero encountered in double_scalars\n",
      "  return 1 - self.ssr/self.centered_tss\n",
      "c:\\python39\\lib\\site-packages\\statsmodels\\regression\\linear_model.py:1715: RuntimeWarning: divide by zero encountered in double_scalars\n",
      "  return 1 - self.ssr/self.centered_tss\n",
      "c:\\python39\\lib\\site-packages\\statsmodels\\regression\\linear_model.py:1715: RuntimeWarning: divide by zero encountered in double_scalars\n",
      "  return 1 - self.ssr/self.centered_tss\n",
      "c:\\python39\\lib\\site-packages\\statsmodels\\regression\\linear_model.py:1715: RuntimeWarning: divide by zero encountered in double_scalars\n",
      "  return 1 - self.ssr/self.centered_tss\n",
      "c:\\python39\\lib\\site-packages\\statsmodels\\regression\\linear_model.py:903: RuntimeWarning: divide by zero encountered in log\n",
      "  llf = -nobs2*np.log(2*np.pi) - nobs2*np.log(ssr / nobs) - nobs2\n",
      "c:\\python39\\lib\\site-packages\\statsmodels\\regression\\linear_model.py:1715: RuntimeWarning: divide by zero encountered in double_scalars\n",
      "  return 1 - self.ssr/self.centered_tss\n",
      "c:\\python39\\lib\\site-packages\\statsmodels\\regression\\linear_model.py:1715: RuntimeWarning: divide by zero encountered in double_scalars\n",
      "  return 1 - self.ssr/self.centered_tss\n",
      "c:\\python39\\lib\\site-packages\\statsmodels\\regression\\linear_model.py:1715: RuntimeWarning: divide by zero encountered in double_scalars\n",
      "  return 1 - self.ssr/self.centered_tss\n",
      "c:\\python39\\lib\\site-packages\\statsmodels\\regression\\linear_model.py:1715: RuntimeWarning: divide by zero encountered in double_scalars\n",
      "  return 1 - self.ssr/self.centered_tss\n",
      "c:\\python39\\lib\\site-packages\\statsmodels\\regression\\linear_model.py:1715: RuntimeWarning: divide by zero encountered in double_scalars\n",
      "  return 1 - self.ssr/self.centered_tss\n",
      "c:\\python39\\lib\\site-packages\\statsmodels\\regression\\linear_model.py:1715: RuntimeWarning: divide by zero encountered in double_scalars\n",
      "  return 1 - self.ssr/self.centered_tss\n",
      "c:\\python39\\lib\\site-packages\\statsmodels\\regression\\linear_model.py:1715: RuntimeWarning: divide by zero encountered in double_scalars\n",
      "  return 1 - self.ssr/self.centered_tss\n",
      "c:\\python39\\lib\\site-packages\\statsmodels\\regression\\linear_model.py:903: RuntimeWarning: divide by zero encountered in log\n",
      "  llf = -nobs2*np.log(2*np.pi) - nobs2*np.log(ssr / nobs) - nobs2\n",
      "c:\\python39\\lib\\site-packages\\statsmodels\\regression\\linear_model.py:1715: RuntimeWarning: divide by zero encountered in double_scalars\n",
      "  return 1 - self.ssr/self.centered_tss\n",
      "c:\\python39\\lib\\site-packages\\statsmodels\\regression\\linear_model.py:1715: RuntimeWarning: invalid value encountered in double_scalars\n",
      "  return 1 - self.ssr/self.centered_tss\n",
      "c:\\python39\\lib\\site-packages\\statsmodels\\tsa\\stattools.py:1605: CollinearityWarning: y0 and y1 are (almost) perfectly colinear.Cointegration test is not reliable in this case.\n",
      "  warnings.warn(\n",
      "c:\\python39\\lib\\site-packages\\statsmodels\\regression\\linear_model.py:1715: RuntimeWarning: divide by zero encountered in double_scalars\n",
      "  return 1 - self.ssr/self.centered_tss\n",
      "c:\\python39\\lib\\site-packages\\statsmodels\\regression\\linear_model.py:903: RuntimeWarning: divide by zero encountered in log\n",
      "  llf = -nobs2*np.log(2*np.pi) - nobs2*np.log(ssr / nobs) - nobs2\n",
      "c:\\python39\\lib\\site-packages\\statsmodels\\regression\\linear_model.py:1715: RuntimeWarning: divide by zero encountered in double_scalars\n",
      "  return 1 - self.ssr/self.centered_tss\n",
      "c:\\python39\\lib\\site-packages\\statsmodels\\regression\\linear_model.py:1715: RuntimeWarning: divide by zero encountered in double_scalars\n",
      "  return 1 - self.ssr/self.centered_tss\n",
      "c:\\python39\\lib\\site-packages\\statsmodels\\regression\\linear_model.py:1715: RuntimeWarning: divide by zero encountered in double_scalars\n",
      "  return 1 - self.ssr/self.centered_tss\n",
      "c:\\python39\\lib\\site-packages\\statsmodels\\regression\\linear_model.py:1715: RuntimeWarning: divide by zero encountered in double_scalars\n",
      "  return 1 - self.ssr/self.centered_tss\n",
      "c:\\python39\\lib\\site-packages\\statsmodels\\regression\\linear_model.py:1715: RuntimeWarning: divide by zero encountered in double_scalars\n",
      "  return 1 - self.ssr/self.centered_tss\n",
      "c:\\python39\\lib\\site-packages\\statsmodels\\regression\\linear_model.py:1715: RuntimeWarning: divide by zero encountered in double_scalars\n",
      "  return 1 - self.ssr/self.centered_tss\n",
      "c:\\python39\\lib\\site-packages\\statsmodels\\regression\\linear_model.py:1715: RuntimeWarning: divide by zero encountered in double_scalars\n",
      "  return 1 - self.ssr/self.centered_tss\n",
      "c:\\python39\\lib\\site-packages\\statsmodels\\regression\\linear_model.py:903: RuntimeWarning: divide by zero encountered in log\n",
      "  llf = -nobs2*np.log(2*np.pi) - nobs2*np.log(ssr / nobs) - nobs2\n",
      "c:\\python39\\lib\\site-packages\\statsmodels\\regression\\linear_model.py:1715: RuntimeWarning: divide by zero encountered in double_scalars\n",
      "  return 1 - self.ssr/self.centered_tss\n",
      "c:\\python39\\lib\\site-packages\\statsmodels\\regression\\linear_model.py:1715: RuntimeWarning: divide by zero encountered in double_scalars\n",
      "  return 1 - self.ssr/self.centered_tss\n",
      "c:\\python39\\lib\\site-packages\\statsmodels\\regression\\linear_model.py:1715: RuntimeWarning: divide by zero encountered in double_scalars\n",
      "  return 1 - self.ssr/self.centered_tss\n",
      "c:\\python39\\lib\\site-packages\\statsmodels\\regression\\linear_model.py:1715: RuntimeWarning: divide by zero encountered in double_scalars\n",
      "  return 1 - self.ssr/self.centered_tss\n",
      "c:\\python39\\lib\\site-packages\\statsmodels\\regression\\linear_model.py:1715: RuntimeWarning: divide by zero encountered in double_scalars\n",
      "  return 1 - self.ssr/self.centered_tss\n",
      "c:\\python39\\lib\\site-packages\\statsmodels\\regression\\linear_model.py:1715: RuntimeWarning: divide by zero encountered in double_scalars\n",
      "  return 1 - self.ssr/self.centered_tss\n",
      "c:\\python39\\lib\\site-packages\\statsmodels\\regression\\linear_model.py:1715: RuntimeWarning: divide by zero encountered in double_scalars\n",
      "  return 1 - self.ssr/self.centered_tss\n",
      "c:\\python39\\lib\\site-packages\\statsmodels\\regression\\linear_model.py:1715: RuntimeWarning: divide by zero encountered in double_scalars\n",
      "  return 1 - self.ssr/self.centered_tss\n",
      "c:\\python39\\lib\\site-packages\\statsmodels\\regression\\linear_model.py:1715: RuntimeWarning: divide by zero encountered in double_scalars\n",
      "  return 1 - self.ssr/self.centered_tss\n",
      "c:\\python39\\lib\\site-packages\\statsmodels\\regression\\linear_model.py:1715: RuntimeWarning: divide by zero encountered in double_scalars\n",
      "  return 1 - self.ssr/self.centered_tss\n",
      "c:\\python39\\lib\\site-packages\\statsmodels\\regression\\linear_model.py:1715: RuntimeWarning: divide by zero encountered in double_scalars\n",
      "  return 1 - self.ssr/self.centered_tss\n",
      "c:\\python39\\lib\\site-packages\\statsmodels\\regression\\linear_model.py:1715: RuntimeWarning: divide by zero encountered in double_scalars\n",
      "  return 1 - self.ssr/self.centered_tss\n",
      "c:\\python39\\lib\\site-packages\\statsmodels\\regression\\linear_model.py:1715: RuntimeWarning: divide by zero encountered in double_scalars\n",
      "  return 1 - self.ssr/self.centered_tss\n",
      "c:\\python39\\lib\\site-packages\\statsmodels\\regression\\linear_model.py:1715: RuntimeWarning: divide by zero encountered in double_scalars\n",
      "  return 1 - self.ssr/self.centered_tss\n",
      "c:\\python39\\lib\\site-packages\\statsmodels\\regression\\linear_model.py:1715: RuntimeWarning: divide by zero encountered in double_scalars\n",
      "  return 1 - self.ssr/self.centered_tss\n",
      "c:\\python39\\lib\\site-packages\\statsmodels\\regression\\linear_model.py:1715: RuntimeWarning: divide by zero encountered in double_scalars\n",
      "  return 1 - self.ssr/self.centered_tss\n",
      "c:\\python39\\lib\\site-packages\\statsmodels\\regression\\linear_model.py:1715: RuntimeWarning: divide by zero encountered in double_scalars\n",
      "  return 1 - self.ssr/self.centered_tss\n",
      "c:\\python39\\lib\\site-packages\\statsmodels\\regression\\linear_model.py:1715: RuntimeWarning: divide by zero encountered in double_scalars\n",
      "  return 1 - self.ssr/self.centered_tss\n",
      "c:\\python39\\lib\\site-packages\\statsmodels\\regression\\linear_model.py:1715: RuntimeWarning: divide by zero encountered in double_scalars\n",
      "  return 1 - self.ssr/self.centered_tss\n",
      "c:\\python39\\lib\\site-packages\\statsmodels\\regression\\linear_model.py:1715: RuntimeWarning: divide by zero encountered in double_scalars\n",
      "  return 1 - self.ssr/self.centered_tss\n",
      "c:\\python39\\lib\\site-packages\\statsmodels\\regression\\linear_model.py:1715: RuntimeWarning: divide by zero encountered in double_scalars\n",
      "  return 1 - self.ssr/self.centered_tss\n",
      "c:\\python39\\lib\\site-packages\\statsmodels\\regression\\linear_model.py:1715: RuntimeWarning: divide by zero encountered in double_scalars\n",
      "  return 1 - self.ssr/self.centered_tss\n",
      "c:\\python39\\lib\\site-packages\\statsmodels\\regression\\linear_model.py:1715: RuntimeWarning: divide by zero encountered in double_scalars\n",
      "  return 1 - self.ssr/self.centered_tss\n",
      "c:\\python39\\lib\\site-packages\\statsmodels\\regression\\linear_model.py:1715: RuntimeWarning: divide by zero encountered in double_scalars\n",
      "  return 1 - self.ssr/self.centered_tss\n",
      "c:\\python39\\lib\\site-packages\\statsmodels\\regression\\linear_model.py:1715: RuntimeWarning: divide by zero encountered in double_scalars\n",
      "  return 1 - self.ssr/self.centered_tss\n",
      "c:\\python39\\lib\\site-packages\\statsmodels\\regression\\linear_model.py:1715: RuntimeWarning: divide by zero encountered in double_scalars\n",
      "  return 1 - self.ssr/self.centered_tss\n",
      "c:\\python39\\lib\\site-packages\\statsmodels\\regression\\linear_model.py:1715: RuntimeWarning: divide by zero encountered in double_scalars\n",
      "  return 1 - self.ssr/self.centered_tss\n",
      "c:\\python39\\lib\\site-packages\\statsmodels\\regression\\linear_model.py:1715: RuntimeWarning: divide by zero encountered in double_scalars\n",
      "  return 1 - self.ssr/self.centered_tss\n",
      "c:\\python39\\lib\\site-packages\\statsmodels\\regression\\linear_model.py:1715: RuntimeWarning: divide by zero encountered in double_scalars\n",
      "  return 1 - self.ssr/self.centered_tss\n",
      "c:\\python39\\lib\\site-packages\\statsmodels\\regression\\linear_model.py:1715: RuntimeWarning: divide by zero encountered in double_scalars\n",
      "  return 1 - self.ssr/self.centered_tss\n",
      "c:\\python39\\lib\\site-packages\\statsmodels\\regression\\linear_model.py:1715: RuntimeWarning: divide by zero encountered in double_scalars\n",
      "  return 1 - self.ssr/self.centered_tss\n",
      "c:\\python39\\lib\\site-packages\\statsmodels\\regression\\linear_model.py:1715: RuntimeWarning: divide by zero encountered in double_scalars\n",
      "  return 1 - self.ssr/self.centered_tss\n",
      "c:\\python39\\lib\\site-packages\\statsmodels\\regression\\linear_model.py:1715: RuntimeWarning: divide by zero encountered in double_scalars\n",
      "  return 1 - self.ssr/self.centered_tss\n",
      "c:\\python39\\lib\\site-packages\\statsmodels\\regression\\linear_model.py:1715: RuntimeWarning: divide by zero encountered in double_scalars\n",
      "  return 1 - self.ssr/self.centered_tss\n",
      "c:\\python39\\lib\\site-packages\\statsmodels\\regression\\linear_model.py:1715: RuntimeWarning: divide by zero encountered in double_scalars\n",
      "  return 1 - self.ssr/self.centered_tss\n",
      "c:\\python39\\lib\\site-packages\\statsmodels\\regression\\linear_model.py:1715: RuntimeWarning: divide by zero encountered in double_scalars\n",
      "  return 1 - self.ssr/self.centered_tss\n",
      "c:\\python39\\lib\\site-packages\\statsmodels\\regression\\linear_model.py:1715: RuntimeWarning: divide by zero encountered in double_scalars\n",
      "  return 1 - self.ssr/self.centered_tss\n",
      "c:\\python39\\lib\\site-packages\\statsmodels\\regression\\linear_model.py:903: RuntimeWarning: divide by zero encountered in log\n",
      "  llf = -nobs2*np.log(2*np.pi) - nobs2*np.log(ssr / nobs) - nobs2\n",
      "c:\\python39\\lib\\site-packages\\statsmodels\\regression\\linear_model.py:1715: RuntimeWarning: divide by zero encountered in double_scalars\n",
      "  return 1 - self.ssr/self.centered_tss\n",
      "c:\\python39\\lib\\site-packages\\statsmodels\\regression\\linear_model.py:1715: RuntimeWarning: divide by zero encountered in double_scalars\n",
      "  return 1 - self.ssr/self.centered_tss\n",
      "c:\\python39\\lib\\site-packages\\statsmodels\\regression\\linear_model.py:1715: RuntimeWarning: divide by zero encountered in double_scalars\n",
      "  return 1 - self.ssr/self.centered_tss\n",
      "c:\\python39\\lib\\site-packages\\statsmodels\\regression\\linear_model.py:1715: RuntimeWarning: divide by zero encountered in double_scalars\n",
      "  return 1 - self.ssr/self.centered_tss\n",
      "c:\\python39\\lib\\site-packages\\statsmodels\\regression\\linear_model.py:1715: RuntimeWarning: divide by zero encountered in double_scalars\n",
      "  return 1 - self.ssr/self.centered_tss\n",
      "c:\\python39\\lib\\site-packages\\statsmodels\\regression\\linear_model.py:1715: RuntimeWarning: divide by zero encountered in double_scalars\n",
      "  return 1 - self.ssr/self.centered_tss\n",
      "c:\\python39\\lib\\site-packages\\statsmodels\\regression\\linear_model.py:1715: RuntimeWarning: divide by zero encountered in double_scalars\n",
      "  return 1 - self.ssr/self.centered_tss\n",
      "c:\\python39\\lib\\site-packages\\statsmodels\\regression\\linear_model.py:1715: RuntimeWarning: divide by zero encountered in double_scalars\n",
      "  return 1 - self.ssr/self.centered_tss\n",
      "c:\\python39\\lib\\site-packages\\statsmodels\\regression\\linear_model.py:1715: RuntimeWarning: divide by zero encountered in double_scalars\n",
      "  return 1 - self.ssr/self.centered_tss\n",
      "c:\\python39\\lib\\site-packages\\statsmodels\\regression\\linear_model.py:1715: RuntimeWarning: divide by zero encountered in double_scalars\n",
      "  return 1 - self.ssr/self.centered_tss\n",
      "c:\\python39\\lib\\site-packages\\statsmodels\\regression\\linear_model.py:1715: RuntimeWarning: divide by zero encountered in double_scalars\n",
      "  return 1 - self.ssr/self.centered_tss\n",
      "c:\\python39\\lib\\site-packages\\statsmodels\\regression\\linear_model.py:1715: RuntimeWarning: divide by zero encountered in double_scalars\n",
      "  return 1 - self.ssr/self.centered_tss\n",
      "c:\\python39\\lib\\site-packages\\statsmodels\\regression\\linear_model.py:1715: RuntimeWarning: divide by zero encountered in double_scalars\n",
      "  return 1 - self.ssr/self.centered_tss\n",
      "c:\\python39\\lib\\site-packages\\statsmodels\\regression\\linear_model.py:1715: RuntimeWarning: divide by zero encountered in double_scalars\n",
      "  return 1 - self.ssr/self.centered_tss\n",
      "c:\\python39\\lib\\site-packages\\statsmodels\\regression\\linear_model.py:1715: RuntimeWarning: divide by zero encountered in double_scalars\n",
      "  return 1 - self.ssr/self.centered_tss\n",
      "c:\\python39\\lib\\site-packages\\statsmodels\\regression\\linear_model.py:1715: RuntimeWarning: divide by zero encountered in double_scalars\n",
      "  return 1 - self.ssr/self.centered_tss\n",
      "c:\\python39\\lib\\site-packages\\statsmodels\\regression\\linear_model.py:903: RuntimeWarning: divide by zero encountered in log\n",
      "  llf = -nobs2*np.log(2*np.pi) - nobs2*np.log(ssr / nobs) - nobs2\n",
      "c:\\python39\\lib\\site-packages\\statsmodels\\regression\\linear_model.py:1715: RuntimeWarning: divide by zero encountered in double_scalars\n",
      "  return 1 - self.ssr/self.centered_tss\n",
      "c:\\python39\\lib\\site-packages\\statsmodels\\regression\\linear_model.py:1715: RuntimeWarning: divide by zero encountered in double_scalars\n",
      "  return 1 - self.ssr/self.centered_tss\n",
      "c:\\python39\\lib\\site-packages\\statsmodels\\regression\\linear_model.py:1715: RuntimeWarning: divide by zero encountered in double_scalars\n",
      "  return 1 - self.ssr/self.centered_tss\n",
      "c:\\python39\\lib\\site-packages\\statsmodels\\regression\\linear_model.py:903: RuntimeWarning: divide by zero encountered in log\n",
      "  llf = -nobs2*np.log(2*np.pi) - nobs2*np.log(ssr / nobs) - nobs2\n",
      "c:\\python39\\lib\\site-packages\\statsmodels\\regression\\linear_model.py:1715: RuntimeWarning: divide by zero encountered in double_scalars\n",
      "  return 1 - self.ssr/self.centered_tss\n",
      "c:\\python39\\lib\\site-packages\\statsmodels\\regression\\linear_model.py:1715: RuntimeWarning: divide by zero encountered in double_scalars\n",
      "  return 1 - self.ssr/self.centered_tss\n",
      "c:\\python39\\lib\\site-packages\\statsmodels\\regression\\linear_model.py:1715: RuntimeWarning: divide by zero encountered in double_scalars\n",
      "  return 1 - self.ssr/self.centered_tss\n",
      "c:\\python39\\lib\\site-packages\\statsmodels\\regression\\linear_model.py:1715: RuntimeWarning: divide by zero encountered in double_scalars\n",
      "  return 1 - self.ssr/self.centered_tss\n",
      "c:\\python39\\lib\\site-packages\\statsmodels\\regression\\linear_model.py:903: RuntimeWarning: divide by zero encountered in log\n",
      "  llf = -nobs2*np.log(2*np.pi) - nobs2*np.log(ssr / nobs) - nobs2\n",
      "c:\\python39\\lib\\site-packages\\statsmodels\\regression\\linear_model.py:1715: RuntimeWarning: divide by zero encountered in double_scalars\n",
      "  return 1 - self.ssr/self.centered_tss\n",
      "c:\\python39\\lib\\site-packages\\statsmodels\\regression\\linear_model.py:1715: RuntimeWarning: divide by zero encountered in double_scalars\n",
      "  return 1 - self.ssr/self.centered_tss\n",
      "c:\\python39\\lib\\site-packages\\statsmodels\\regression\\linear_model.py:1715: RuntimeWarning: divide by zero encountered in double_scalars\n",
      "  return 1 - self.ssr/self.centered_tss\n",
      "c:\\python39\\lib\\site-packages\\statsmodels\\regression\\linear_model.py:1715: RuntimeWarning: divide by zero encountered in double_scalars\n",
      "  return 1 - self.ssr/self.centered_tss\n",
      "c:\\python39\\lib\\site-packages\\statsmodels\\regression\\linear_model.py:1715: RuntimeWarning: divide by zero encountered in double_scalars\n",
      "  return 1 - self.ssr/self.centered_tss\n"
     ]
    },
    {
     "name": "stdout",
     "output_type": "stream",
     "text": [
      "84.82 done\n"
     ]
    },
    {
     "name": "stderr",
     "output_type": "stream",
     "text": [
      "c:\\python39\\lib\\site-packages\\statsmodels\\regression\\linear_model.py:903: RuntimeWarning: divide by zero encountered in log\n",
      "  llf = -nobs2*np.log(2*np.pi) - nobs2*np.log(ssr / nobs) - nobs2\n"
     ]
    },
    {
     "name": "stdout",
     "output_type": "stream",
     "text": [
      "85.71 done\n"
     ]
    },
    {
     "name": "stderr",
     "output_type": "stream",
     "text": [
      "c:\\python39\\lib\\site-packages\\statsmodels\\regression\\linear_model.py:903: RuntimeWarning: divide by zero encountered in log\n",
      "  llf = -nobs2*np.log(2*np.pi) - nobs2*np.log(ssr / nobs) - nobs2\n"
     ]
    },
    {
     "name": "stdout",
     "output_type": "stream",
     "text": [
      "86.61 done\n"
     ]
    },
    {
     "name": "stderr",
     "output_type": "stream",
     "text": [
      "c:\\python39\\lib\\site-packages\\statsmodels\\regression\\linear_model.py:903: RuntimeWarning: divide by zero encountered in log\n",
      "  llf = -nobs2*np.log(2*np.pi) - nobs2*np.log(ssr / nobs) - nobs2\n"
     ]
    },
    {
     "name": "stdout",
     "output_type": "stream",
     "text": [
      "87.50 done\n"
     ]
    },
    {
     "name": "stderr",
     "output_type": "stream",
     "text": [
      "c:\\python39\\lib\\site-packages\\statsmodels\\regression\\linear_model.py:903: RuntimeWarning: divide by zero encountered in log\n",
      "  llf = -nobs2*np.log(2*np.pi) - nobs2*np.log(ssr / nobs) - nobs2\n"
     ]
    },
    {
     "name": "stdout",
     "output_type": "stream",
     "text": [
      "88.39 done\n"
     ]
    },
    {
     "name": "stderr",
     "output_type": "stream",
     "text": [
      "c:\\python39\\lib\\site-packages\\statsmodels\\regression\\linear_model.py:903: RuntimeWarning: divide by zero encountered in log\n",
      "  llf = -nobs2*np.log(2*np.pi) - nobs2*np.log(ssr / nobs) - nobs2\n"
     ]
    },
    {
     "name": "stdout",
     "output_type": "stream",
     "text": [
      "89.29 done\n"
     ]
    },
    {
     "name": "stderr",
     "output_type": "stream",
     "text": [
      "c:\\python39\\lib\\site-packages\\statsmodels\\regression\\linear_model.py:903: RuntimeWarning: divide by zero encountered in log\n",
      "  llf = -nobs2*np.log(2*np.pi) - nobs2*np.log(ssr / nobs) - nobs2\n"
     ]
    },
    {
     "name": "stdout",
     "output_type": "stream",
     "text": [
      "90.18 done\n"
     ]
    },
    {
     "name": "stderr",
     "output_type": "stream",
     "text": [
      "c:\\python39\\lib\\site-packages\\statsmodels\\regression\\linear_model.py:903: RuntimeWarning: divide by zero encountered in log\n",
      "  llf = -nobs2*np.log(2*np.pi) - nobs2*np.log(ssr / nobs) - nobs2\n"
     ]
    },
    {
     "name": "stdout",
     "output_type": "stream",
     "text": [
      "91.07 done\n"
     ]
    },
    {
     "name": "stderr",
     "output_type": "stream",
     "text": [
      "c:\\python39\\lib\\site-packages\\statsmodels\\regression\\linear_model.py:903: RuntimeWarning: divide by zero encountered in log\n",
      "  llf = -nobs2*np.log(2*np.pi) - nobs2*np.log(ssr / nobs) - nobs2\n"
     ]
    },
    {
     "name": "stdout",
     "output_type": "stream",
     "text": [
      "91.96 done\n"
     ]
    },
    {
     "name": "stderr",
     "output_type": "stream",
     "text": [
      "c:\\python39\\lib\\site-packages\\statsmodels\\regression\\linear_model.py:903: RuntimeWarning: divide by zero encountered in log\n",
      "  llf = -nobs2*np.log(2*np.pi) - nobs2*np.log(ssr / nobs) - nobs2\n"
     ]
    },
    {
     "name": "stdout",
     "output_type": "stream",
     "text": [
      "92.86 done\n"
     ]
    },
    {
     "name": "stderr",
     "output_type": "stream",
     "text": [
      "c:\\python39\\lib\\site-packages\\statsmodels\\regression\\linear_model.py:903: RuntimeWarning: divide by zero encountered in log\n",
      "  llf = -nobs2*np.log(2*np.pi) - nobs2*np.log(ssr / nobs) - nobs2\n"
     ]
    },
    {
     "name": "stdout",
     "output_type": "stream",
     "text": [
      "93.75 done\n"
     ]
    },
    {
     "name": "stderr",
     "output_type": "stream",
     "text": [
      "c:\\python39\\lib\\site-packages\\statsmodels\\regression\\linear_model.py:903: RuntimeWarning: divide by zero encountered in log\n",
      "  llf = -nobs2*np.log(2*np.pi) - nobs2*np.log(ssr / nobs) - nobs2\n"
     ]
    },
    {
     "name": "stdout",
     "output_type": "stream",
     "text": [
      "94.64 done\n"
     ]
    },
    {
     "name": "stderr",
     "output_type": "stream",
     "text": [
      "c:\\python39\\lib\\site-packages\\statsmodels\\regression\\linear_model.py:903: RuntimeWarning: divide by zero encountered in log\n",
      "  llf = -nobs2*np.log(2*np.pi) - nobs2*np.log(ssr / nobs) - nobs2\n"
     ]
    },
    {
     "name": "stdout",
     "output_type": "stream",
     "text": [
      "95.54 done\n"
     ]
    },
    {
     "name": "stderr",
     "output_type": "stream",
     "text": [
      "c:\\python39\\lib\\site-packages\\statsmodels\\regression\\linear_model.py:903: RuntimeWarning: divide by zero encountered in log\n",
      "  llf = -nobs2*np.log(2*np.pi) - nobs2*np.log(ssr / nobs) - nobs2\n"
     ]
    },
    {
     "name": "stdout",
     "output_type": "stream",
     "text": [
      "96.43 done\n"
     ]
    },
    {
     "name": "stderr",
     "output_type": "stream",
     "text": [
      "c:\\python39\\lib\\site-packages\\statsmodels\\regression\\linear_model.py:903: RuntimeWarning: divide by zero encountered in log\n",
      "  llf = -nobs2*np.log(2*np.pi) - nobs2*np.log(ssr / nobs) - nobs2\n"
     ]
    },
    {
     "name": "stdout",
     "output_type": "stream",
     "text": [
      "97.32 done\n"
     ]
    },
    {
     "name": "stderr",
     "output_type": "stream",
     "text": [
      "c:\\python39\\lib\\site-packages\\statsmodels\\regression\\linear_model.py:903: RuntimeWarning: divide by zero encountered in log\n",
      "  llf = -nobs2*np.log(2*np.pi) - nobs2*np.log(ssr / nobs) - nobs2\n"
     ]
    },
    {
     "name": "stdout",
     "output_type": "stream",
     "text": [
      "98.21 done\n"
     ]
    },
    {
     "name": "stderr",
     "output_type": "stream",
     "text": [
      "c:\\python39\\lib\\site-packages\\statsmodels\\regression\\linear_model.py:903: RuntimeWarning: divide by zero encountered in log\n",
      "  llf = -nobs2*np.log(2*np.pi) - nobs2*np.log(ssr / nobs) - nobs2\n"
     ]
    },
    {
     "name": "stdout",
     "output_type": "stream",
     "text": [
      "99.11 done\n"
     ]
    },
    {
     "name": "stderr",
     "output_type": "stream",
     "text": [
      "c:\\python39\\lib\\site-packages\\statsmodels\\regression\\linear_model.py:903: RuntimeWarning: divide by zero encountered in log\n",
      "  llf = -nobs2*np.log(2*np.pi) - nobs2*np.log(ssr / nobs) - nobs2\n"
     ]
    },
    {
     "name": "stdout",
     "output_type": "stream",
     "text": [
      "Done!\n"
     ]
    }
   ],
   "source": [
    "df = pd.DataFrame(pd.read_csv(\"data/quotes_binance\"))\n",
    "df = df.drop(columns=[\"Unnamed: 0\"])\n",
    "len(df.columns)\n",
    "\n",
    "def spread_adf(price1, price2):\n",
    "    LR = LinearRegression()\n",
    "    LR.fit(price1, price2)\n",
    "    spread = LR.predict(price1)-price2\n",
    "    return statsmodels.tsa.stattools.adfuller(spread)[1]\n",
    "\n",
    "tickers = list(df.columns)\n",
    "\n",
    "table_cointegration = pd.DataFrame(np.zeros((len(tickers), len(tickers))), columns = tickers, index = tickers)\n",
    "table_adf = pd.DataFrame(np.zeros((len(tickers), len(tickers))), columns = tickers, index = tickers)\n",
    "\n",
    "for ticker1 in tickers:\n",
    "    print(\"%.2f done\" % (list(tickers).index(ticker1)/len(tickers)*100))\n",
    "    for ticker2 in tickers:\n",
    "        if ticker1 == ticker2:\n",
    "            table_cointegration.at[ticker1, ticker2] = 1\n",
    "            table_adf.at[ticker1, ticker2] = 1\n",
    "        else:\n",
    "            table_cointegration.at[ticker1, ticker2] = statsmodels.tsa.stattools.coint(df[ticker1], df[ticker2])[1]\n",
    "            table_adf.at[ticker1, ticker2] = spread_adf(df[[ticker1]], df[[ticker2]])\n",
    "\n",
    "print(\"Done!\")\n",
    "\n",
    "coint_adf = pd.DataFrame(columns = [\"Pair1\", \"Pair2\", \"Cointegration\", \"ADF\"])\n",
    "\n",
    "for ticker1 in table_adf.columns:\n",
    "    for ticker2 in table_adf.columns:\n",
    "        if table_cointegration[ticker1][ticker2] <= 0.0001:\n",
    "            if table_adf[ticker1][ticker2] <= 0.0001:\n",
    "                coint_adf = coint_adf.append({\"Pair1\": ticker1, \"Pair2\": ticker2, \"Cointegration\": table_cointegration[ticker1][ticker2], \"ADF\": table_adf[ticker1][ticker2]}, ignore_index=True)\n",
    "coint_adf = coint_adf.replace('/','_', regex=True)\n",
    "coint_adf.to_csv(\"CointegrationADF.csv\", index=False)"
   ]
  },
  {
   "cell_type": "code",
   "execution_count": 3,
   "id": "3ae0897a-b0e3-4238-9399-0f80a772bc21",
   "metadata": {},
   "outputs": [
    {
     "name": "stdout",
     "output_type": "stream",
     "text": [
      "==================================================\n",
      "Starting Value - 200000.00\n",
      "Ending   Value - 195626.16\n",
      "==================================================\n",
      "==================================================\n",
      "Starting Value - 200000.00\n",
      "Ending   Value - 215961.27\n",
      "==================================================\n",
      "==================================================\n",
      "Starting Value - 200000.00\n",
      "Ending   Value - 195107.83\n",
      "==================================================\n",
      "==================================================\n",
      "Starting Value - 200000.00\n",
      "Ending   Value - 201353.40\n",
      "==================================================\n",
      "==================================================\n",
      "Starting Value - 200000.00\n",
      "Ending   Value - 195760.29\n",
      "==================================================\n",
      "==================================================\n",
      "Starting Value - 200000.00\n",
      "Ending   Value - 194890.14\n",
      "==================================================\n",
      "==================================================\n",
      "Starting Value - 200000.00\n",
      "Ending   Value - 238377.71\n",
      "==================================================\n",
      "==================================================\n",
      "Starting Value - 200000.00\n",
      "Ending   Value - 203989.83\n",
      "==================================================\n",
      "==================================================\n",
      "Starting Value - 200000.00\n",
      "Ending   Value - 183580.01\n",
      "==================================================\n",
      "==================================================\n",
      "Starting Value - 200000.00\n",
      "Ending   Value - 171007.35\n",
      "==================================================\n",
      "==================================================\n",
      "Starting Value - 200000.00\n",
      "Ending   Value - 200677.63\n",
      "==================================================\n",
      "==================================================\n",
      "Starting Value - 200000.00\n",
      "Ending   Value - 179665.10\n",
      "==================================================\n",
      "==================================================\n",
      "Starting Value - 200000.00\n",
      "Ending   Value - 200255.86\n",
      "==================================================\n",
      "==================================================\n",
      "Starting Value - 200000.00\n",
      "Ending   Value - 149221.55\n",
      "==================================================\n",
      "==================================================\n",
      "Starting Value - 200000.00\n",
      "Ending   Value - 172735.25\n",
      "==================================================\n",
      "==================================================\n",
      "Starting Value - 200000.00\n",
      "Ending   Value - 194831.83\n",
      "==================================================\n",
      "==================================================\n",
      "Starting Value - 200000.00\n",
      "Ending   Value - 178984.21\n",
      "==================================================\n",
      "==================================================\n",
      "Starting Value - 200000.00\n",
      "Ending   Value - 179039.81\n",
      "==================================================\n",
      "==================================================\n",
      "Starting Value - 200000.00\n",
      "Ending   Value - 187089.23\n",
      "==================================================\n",
      "==================================================\n",
      "Starting Value - 200000.00\n",
      "Ending   Value - 183191.02\n",
      "==================================================\n",
      "==================================================\n",
      "Starting Value - 200000.00\n",
      "Ending   Value - 194705.39\n",
      "==================================================\n",
      "==================================================\n",
      "Starting Value - 200000.00\n",
      "Ending   Value - 149308.52\n",
      "==================================================\n",
      "==================================================\n",
      "Starting Value - 200000.00\n",
      "Ending   Value - 182264.60\n",
      "==================================================\n",
      "==================================================\n",
      "Starting Value - 200000.00\n",
      "Ending   Value - 166044.38\n",
      "==================================================\n",
      "==================================================\n",
      "Starting Value - 200000.00\n",
      "Ending   Value - 196221.95\n",
      "==================================================\n",
      "==================================================\n",
      "Starting Value - 200000.00\n",
      "Ending   Value - 162128.63\n",
      "==================================================\n",
      "==================================================\n",
      "Starting Value - 200000.00\n",
      "Ending   Value - 180109.06\n",
      "==================================================\n",
      "==================================================\n",
      "Starting Value - 200000.00\n",
      "Ending   Value - 231159.34\n",
      "==================================================\n",
      "==================================================\n",
      "Starting Value - 200000.00\n",
      "Ending   Value - 117329.80\n",
      "==================================================\n",
      "==================================================\n",
      "Starting Value - 200000.00\n",
      "Ending   Value - 222382.30\n",
      "==================================================\n",
      "==================================================\n",
      "Starting Value - 200000.00\n",
      "Ending   Value - 252106.06\n",
      "==================================================\n",
      "==================================================\n",
      "Starting Value - 200000.00\n",
      "Ending   Value - 198911.28\n",
      "==================================================\n",
      "==================================================\n",
      "Starting Value - 200000.00\n",
      "Ending   Value - 204664.81\n",
      "==================================================\n",
      "==================================================\n",
      "Starting Value - 200000.00\n",
      "Ending   Value - 231585.96\n",
      "==================================================\n",
      "==================================================\n",
      "Starting Value - 200000.00\n",
      "Ending   Value - 172809.85\n",
      "==================================================\n",
      "==================================================\n",
      "Starting Value - 200000.00\n",
      "Ending   Value - 168917.92\n",
      "==================================================\n",
      "==================================================\n",
      "Starting Value - 200000.00\n",
      "Ending   Value - 242276.74\n",
      "==================================================\n",
      "==================================================\n",
      "Starting Value - 200000.00\n",
      "Ending   Value - 201586.32\n",
      "==================================================\n",
      "==================================================\n",
      "Starting Value - 200000.00\n",
      "Ending   Value - 153185.01\n",
      "==================================================\n",
      "==================================================\n",
      "Starting Value - 200000.00\n",
      "Ending   Value - 225193.71\n",
      "==================================================\n",
      "==================================================\n",
      "Starting Value - 200000.00\n",
      "Ending   Value - 204071.07\n",
      "==================================================\n",
      "==================================================\n",
      "Starting Value - 200000.00\n",
      "Ending   Value - 240444.57\n",
      "==================================================\n",
      "==================================================\n",
      "Starting Value - 200000.00\n",
      "Ending   Value - 215202.55\n",
      "==================================================\n",
      "==================================================\n",
      "Starting Value - 200000.00\n",
      "Ending   Value - 237814.20\n",
      "==================================================\n",
      "==================================================\n",
      "Starting Value - 200000.00\n",
      "Ending   Value - 210741.13\n",
      "==================================================\n",
      "==================================================\n",
      "Starting Value - 200000.00\n",
      "Ending   Value - 210256.47\n",
      "==================================================\n",
      "==================================================\n",
      "Starting Value - 200000.00\n",
      "Ending   Value - 254082.97\n",
      "==================================================\n",
      "==================================================\n",
      "Starting Value - 200000.00\n",
      "Ending   Value - 222893.15\n",
      "==================================================\n",
      "==================================================\n",
      "Starting Value - 200000.00\n",
      "Ending   Value - 191173.37\n",
      "==================================================\n",
      "==================================================\n",
      "Starting Value - 200000.00\n",
      "Ending   Value - 254094.07\n",
      "==================================================\n",
      "==================================================\n",
      "Starting Value - 200000.00\n",
      "Ending   Value - 232430.95\n",
      "==================================================\n",
      "==================================================\n",
      "Starting Value - 200000.00\n",
      "Ending   Value - 188654.07\n",
      "==================================================\n",
      "==================================================\n",
      "Starting Value - 200000.00\n",
      "Ending   Value - 256245.77\n",
      "==================================================\n",
      "==================================================\n",
      "Starting Value - 200000.00\n",
      "Ending   Value - 245416.71\n",
      "==================================================\n",
      "==================================================\n",
      "Starting Value - 200000.00\n",
      "Ending   Value - 192394.13\n",
      "==================================================\n",
      "==================================================\n",
      "Starting Value - 200000.00\n",
      "Ending   Value - 207536.25\n",
      "==================================================\n",
      "==================================================\n",
      "Starting Value - 200000.00\n",
      "Ending   Value - 191051.29\n",
      "==================================================\n",
      "==================================================\n",
      "Starting Value - 200000.00\n",
      "Ending   Value - 208420.96\n",
      "==================================================\n",
      "==================================================\n",
      "Starting Value - 200000.00\n",
      "Ending   Value - 206938.96\n",
      "==================================================\n",
      "==================================================\n",
      "Starting Value - 200000.00\n",
      "Ending   Value - 193258.00\n",
      "==================================================\n",
      "==================================================\n",
      "Starting Value - 200000.00\n",
      "Ending   Value - 189221.27\n",
      "==================================================\n",
      "==================================================\n",
      "Starting Value - 200000.00\n",
      "Ending   Value - 237403.31\n",
      "==================================================\n",
      "==================================================\n",
      "Starting Value - 200000.00\n",
      "Ending   Value - 260031.22\n",
      "==================================================\n",
      "==================================================\n",
      "Starting Value - 200000.00\n",
      "Ending   Value - 239727.41\n",
      "==================================================\n",
      "==================================================\n",
      "Starting Value - 200000.00\n",
      "Ending   Value - 220612.92\n",
      "==================================================\n",
      "==================================================\n",
      "Starting Value - 200000.00\n",
      "Ending   Value - 199909.61\n",
      "==================================================\n",
      "==================================================\n",
      "Starting Value - 200000.00\n",
      "Ending   Value - 165596.09\n",
      "==================================================\n",
      "==================================================\n",
      "Starting Value - 200000.00\n",
      "Ending   Value - 227042.98\n",
      "==================================================\n",
      "==================================================\n",
      "Starting Value - 200000.00\n",
      "Ending   Value - 173170.83\n",
      "==================================================\n",
      "==================================================\n",
      "Starting Value - 200000.00\n",
      "Ending   Value - 198469.14\n",
      "==================================================\n",
      "==================================================\n",
      "Starting Value - 200000.00\n",
      "Ending   Value - 219593.59\n",
      "==================================================\n",
      "==================================================\n",
      "Starting Value - 200000.00\n",
      "Ending   Value - 193322.27\n",
      "==================================================\n",
      "==================================================\n",
      "Starting Value - 200000.00\n",
      "Ending   Value - 196404.74\n",
      "==================================================\n",
      "==================================================\n",
      "Starting Value - 200000.00\n",
      "Ending   Value - 115504.07\n",
      "==================================================\n",
      "==================================================\n",
      "Starting Value - 200000.00\n",
      "Ending   Value - 151074.30\n",
      "==================================================\n",
      "==================================================\n",
      "Starting Value - 200000.00\n",
      "Ending   Value - 180685.83\n",
      "==================================================\n",
      "==================================================\n",
      "Starting Value - 200000.00\n",
      "Ending   Value - 211274.50\n",
      "==================================================\n",
      "==================================================\n",
      "Starting Value - 200000.00\n",
      "Ending   Value - 194347.84\n",
      "==================================================\n",
      "==================================================\n",
      "Starting Value - 200000.00\n",
      "Ending   Value - 199152.30\n",
      "==================================================\n",
      "==================================================\n",
      "Starting Value - 200000.00\n",
      "Ending   Value - 217137.22\n",
      "==================================================\n",
      "==================================================\n",
      "Starting Value - 200000.00\n",
      "Ending   Value - 282283.82\n",
      "==================================================\n",
      "==================================================\n",
      "Starting Value - 200000.00\n",
      "Ending   Value - 218220.37\n",
      "==================================================\n",
      "==================================================\n",
      "Starting Value - 200000.00\n",
      "Ending   Value - 230827.11\n",
      "==================================================\n",
      "==================================================\n",
      "Starting Value - 200000.00\n",
      "Ending   Value - 271578.10\n",
      "==================================================\n",
      "==================================================\n",
      "Starting Value - 200000.00\n",
      "Ending   Value - 232192.50\n",
      "==================================================\n",
      "==================================================\n",
      "Starting Value - 200000.00\n",
      "Ending   Value - 212717.61\n",
      "==================================================\n",
      "==================================================\n",
      "Starting Value - 200000.00\n",
      "Ending   Value - -41441.28\n",
      "==================================================\n",
      "==================================================\n",
      "Starting Value - 200000.00\n",
      "Ending   Value - 205374.93\n",
      "==================================================\n",
      "==================================================\n",
      "Starting Value - 200000.00\n",
      "Ending   Value - 211049.63\n",
      "==================================================\n",
      "==================================================\n",
      "Starting Value - 200000.00\n",
      "Ending   Value - 240751.88\n",
      "==================================================\n",
      "==================================================\n",
      "Starting Value - 200000.00\n",
      "Ending   Value - 249049.48\n",
      "==================================================\n",
      "==================================================\n",
      "Starting Value - 200000.00\n",
      "Ending   Value - 219975.90\n",
      "==================================================\n",
      "==================================================\n",
      "Starting Value - 200000.00\n",
      "Ending   Value - 198874.41\n",
      "==================================================\n",
      "==================================================\n",
      "Starting Value - 200000.00\n",
      "Ending   Value - 199938.91\n",
      "==================================================\n",
      "==================================================\n",
      "Starting Value - 200000.00\n",
      "Ending   Value - 195095.43\n",
      "==================================================\n",
      "==================================================\n",
      "Starting Value - 200000.00\n",
      "Ending   Value - 201233.32\n",
      "==================================================\n",
      "==================================================\n",
      "Starting Value - 200000.00\n",
      "Ending   Value - 146905.88\n",
      "==================================================\n",
      "==================================================\n",
      "Starting Value - 200000.00\n",
      "Ending   Value - 282369.43\n",
      "==================================================\n",
      "==================================================\n",
      "Starting Value - 200000.00\n",
      "Ending   Value - 233435.66\n",
      "==================================================\n",
      "==================================================\n",
      "Starting Value - 200000.00\n",
      "Ending   Value - 185341.91\n",
      "==================================================\n",
      "==================================================\n",
      "Starting Value - 200000.00\n",
      "Ending   Value - 242312.46\n",
      "==================================================\n",
      "==================================================\n",
      "Starting Value - 200000.00\n",
      "Ending   Value - 240272.20\n",
      "==================================================\n",
      "==================================================\n",
      "Starting Value - 200000.00\n",
      "Ending   Value - 219984.63\n",
      "==================================================\n",
      "==================================================\n",
      "Starting Value - 200000.00\n",
      "Ending   Value - 109497.60\n",
      "==================================================\n",
      "==================================================\n",
      "Starting Value - 200000.00\n",
      "Ending   Value - 187807.87\n",
      "==================================================\n",
      "==================================================\n",
      "Starting Value - 200000.00\n",
      "Ending   Value - 193482.91\n",
      "==================================================\n",
      "==================================================\n",
      "Starting Value - 200000.00\n",
      "Ending   Value - 181318.69\n",
      "==================================================\n",
      "==================================================\n",
      "Starting Value - 200000.00\n",
      "Ending   Value - 235169.55\n",
      "==================================================\n",
      "==================================================\n",
      "Starting Value - 200000.00\n",
      "Ending   Value - 176339.13\n",
      "==================================================\n",
      "==================================================\n",
      "Starting Value - 200000.00\n",
      "Ending   Value - 228110.31\n",
      "==================================================\n",
      "==================================================\n",
      "Starting Value - 200000.00\n",
      "Ending   Value - 201695.86\n",
      "==================================================\n",
      "==================================================\n",
      "Starting Value - 200000.00\n",
      "Ending   Value - 235587.03\n",
      "==================================================\n",
      "==================================================\n",
      "Starting Value - 200000.00\n",
      "Ending   Value - 257397.49\n",
      "==================================================\n",
      "==================================================\n",
      "Starting Value - 200000.00\n",
      "Ending   Value - 267931.67\n",
      "==================================================\n",
      "==================================================\n",
      "Starting Value - 200000.00\n",
      "Ending   Value - 251350.19\n",
      "==================================================\n",
      "==================================================\n",
      "Starting Value - 200000.00\n",
      "Ending   Value - 217469.42\n",
      "==================================================\n",
      "==================================================\n",
      "Starting Value - 200000.00\n",
      "Ending   Value - 176440.64\n",
      "==================================================\n",
      "==================================================\n",
      "Starting Value - 200000.00\n",
      "Ending   Value - 193341.41\n",
      "==================================================\n",
      "==================================================\n",
      "Starting Value - 200000.00\n",
      "Ending   Value - 159552.49\n",
      "==================================================\n",
      "==================================================\n",
      "Starting Value - 200000.00\n",
      "Ending   Value - 173113.13\n",
      "==================================================\n",
      "==================================================\n",
      "Starting Value - 200000.00\n",
      "Ending   Value - 277293.22\n",
      "==================================================\n",
      "==================================================\n",
      "Starting Value - 200000.00\n",
      "Ending   Value - 231109.56\n",
      "==================================================\n",
      "==================================================\n",
      "Starting Value - 200000.00\n",
      "Ending   Value - 173312.41\n",
      "==================================================\n",
      "==================================================\n",
      "Starting Value - 200000.00\n",
      "Ending   Value - 227439.63\n",
      "==================================================\n",
      "==================================================\n",
      "Starting Value - 200000.00\n",
      "Ending   Value - 202477.91\n",
      "==================================================\n",
      "==================================================\n",
      "Starting Value - 200000.00\n",
      "Ending   Value - 216096.68\n",
      "==================================================\n",
      "==================================================\n",
      "Starting Value - 200000.00\n",
      "Ending   Value - 194558.65\n",
      "==================================================\n",
      "==================================================\n",
      "Starting Value - 200000.00\n",
      "Ending   Value - 185137.71\n",
      "==================================================\n",
      "==================================================\n",
      "Starting Value - 200000.00\n",
      "Ending   Value - 179677.30\n",
      "==================================================\n",
      "==================================================\n",
      "Starting Value - 200000.00\n",
      "Ending   Value - 212360.27\n",
      "==================================================\n",
      "==================================================\n",
      "Starting Value - 200000.00\n",
      "Ending   Value - 208689.71\n",
      "==================================================\n",
      "==================================================\n",
      "Starting Value - 200000.00\n",
      "Ending   Value - 209443.58\n",
      "==================================================\n",
      "==================================================\n",
      "Starting Value - 200000.00\n",
      "Ending   Value - 203451.42\n",
      "==================================================\n",
      "==================================================\n",
      "Starting Value - 200000.00\n",
      "Ending   Value - 176098.53\n",
      "==================================================\n",
      "==================================================\n",
      "Starting Value - 200000.00\n",
      "Ending   Value - 219397.09\n",
      "==================================================\n",
      "==================================================\n",
      "Starting Value - 200000.00\n",
      "Ending   Value - 170739.67\n",
      "==================================================\n",
      "==================================================\n",
      "Starting Value - 200000.00\n",
      "Ending   Value - 218905.26\n",
      "==================================================\n",
      "==================================================\n",
      "Starting Value - 200000.00\n",
      "Ending   Value - 223943.70\n",
      "==================================================\n",
      "==================================================\n",
      "Starting Value - 200000.00\n",
      "Ending   Value - 192940.54\n",
      "==================================================\n",
      "==================================================\n",
      "Starting Value - 200000.00\n",
      "Ending   Value - 214403.89\n",
      "==================================================\n",
      "==================================================\n",
      "Starting Value - 200000.00\n",
      "Ending   Value - 184530.26\n",
      "==================================================\n",
      "==================================================\n",
      "Starting Value - 200000.00\n",
      "Ending   Value - 156606.98\n",
      "==================================================\n",
      "==================================================\n",
      "Starting Value - 200000.00\n",
      "Ending   Value - 172113.30\n",
      "==================================================\n",
      "==================================================\n",
      "Starting Value - 200000.00\n",
      "Ending   Value - 143621.97\n",
      "==================================================\n",
      "==================================================\n",
      "Starting Value - 200000.00\n",
      "Ending   Value - 217243.66\n",
      "==================================================\n",
      "==================================================\n",
      "Starting Value - 200000.00\n",
      "Ending   Value - 119857.28\n",
      "==================================================\n",
      "==================================================\n",
      "Starting Value - 200000.00\n",
      "Ending   Value - 182034.07\n",
      "==================================================\n",
      "==================================================\n",
      "Starting Value - 200000.00\n",
      "Ending   Value - 193196.24\n",
      "==================================================\n",
      "==================================================\n",
      "Starting Value - 200000.00\n",
      "Ending   Value - 215718.47\n",
      "==================================================\n",
      "==================================================\n",
      "Starting Value - 200000.00\n",
      "Ending   Value - 259356.79\n",
      "==================================================\n",
      "==================================================\n",
      "Starting Value - 200000.00\n",
      "Ending   Value - 144420.82\n",
      "==================================================\n",
      "==================================================\n",
      "Starting Value - 200000.00\n",
      "Ending   Value - 136412.89\n",
      "==================================================\n",
      "==================================================\n",
      "Starting Value - 200000.00\n",
      "Ending   Value - 199271.43\n",
      "==================================================\n",
      "==================================================\n",
      "Starting Value - 200000.00\n",
      "Ending   Value - 155897.58\n",
      "==================================================\n",
      "==================================================\n",
      "Starting Value - 200000.00\n",
      "Ending   Value - 186369.10\n",
      "==================================================\n",
      "==================================================\n",
      "Starting Value - 200000.00\n",
      "Ending   Value - 151057.64\n",
      "==================================================\n",
      "==================================================\n",
      "Starting Value - 200000.00\n",
      "Ending   Value - 231899.92\n",
      "==================================================\n",
      "==================================================\n",
      "Starting Value - 200000.00\n",
      "Ending   Value - 125841.90\n",
      "==================================================\n",
      "==================================================\n",
      "Starting Value - 200000.00\n",
      "Ending   Value - 154968.10\n",
      "==================================================\n",
      "==================================================\n",
      "Starting Value - 200000.00\n",
      "Ending   Value - 165561.80\n",
      "==================================================\n",
      "==================================================\n",
      "Starting Value - 200000.00\n",
      "Ending   Value - 210015.61\n",
      "==================================================\n",
      "==================================================\n",
      "Starting Value - 200000.00\n",
      "Ending   Value - 215737.28\n",
      "==================================================\n",
      "==================================================\n",
      "Starting Value - 200000.00\n",
      "Ending   Value - 173386.57\n",
      "==================================================\n",
      "==================================================\n",
      "Starting Value - 200000.00\n",
      "Ending   Value - 149582.47\n",
      "==================================================\n",
      "==================================================\n",
      "Starting Value - 200000.00\n",
      "Ending   Value - 142194.23\n",
      "==================================================\n",
      "==================================================\n",
      "Starting Value - 200000.00\n",
      "Ending   Value - 201746.85\n",
      "==================================================\n",
      "==================================================\n",
      "Starting Value - 200000.00\n",
      "Ending   Value - 215700.12\n",
      "==================================================\n",
      "==================================================\n",
      "Starting Value - 200000.00\n",
      "Ending   Value - 141168.91\n",
      "==================================================\n",
      "==================================================\n",
      "Starting Value - 200000.00\n",
      "Ending   Value - 145865.57\n",
      "==================================================\n",
      "==================================================\n",
      "Starting Value - 200000.00\n",
      "Ending   Value - 219196.17\n",
      "==================================================\n",
      "==================================================\n",
      "Starting Value - 200000.00\n",
      "Ending   Value - 128213.44\n",
      "==================================================\n",
      "==================================================\n",
      "Starting Value - 200000.00\n",
      "Ending   Value - 178219.79\n",
      "==================================================\n",
      "==================================================\n",
      "Starting Value - 200000.00\n",
      "Ending   Value - 206245.73\n",
      "==================================================\n",
      "==================================================\n",
      "Starting Value - 200000.00\n",
      "Ending   Value - 191730.43\n",
      "==================================================\n",
      "==================================================\n",
      "Starting Value - 200000.00\n",
      "Ending   Value - 210038.89\n",
      "==================================================\n"
     ]
    }
   ],
   "source": [
    "import datetime\n",
    "pairs = pd.read_csv(\"CointegrationADF.csv\", header=0)\n",
    "returns = list()\n",
    "zscore = list()\n",
    "per = 70\n",
    "stak = 1\n",
    "divide = 2\n",
    "open_threshold = 1.5\n",
    "close_threshold = 0.3\n",
    "cash = 200000\n",
    "first_pair = \"XMR_USDT\"\n",
    "second_pair = \"BNB_USDT\"\n",
    "path = \"data\\\\\"\n",
    "\n",
    "\n",
    "\n",
    "for id in range(len(pairs)):\n",
    "    first_pair = pairs[\"Pair1\"].iloc[id]\n",
    "    second_pair = pairs[\"Pair2\"].iloc[id]\n",
    "    first_data = pd.read_csv(path + \"quotes_binance\")\n",
    "    second_data = pd.read_csv(path + \"quotes_binance\")\n",
    "    LR = LinearRegression()\n",
    "    LR.fit(first_data[[first_pair]], second_data[[second_pair]])\n",
    "    class PairTradingStrategy(bt.Strategy):\n",
    "        params = dict(\n",
    "            period=per,\n",
    "            stake=stak,\n",
    "            qty1=0,\n",
    "            qty2=0,\n",
    "            printout=True,\n",
    "            upper=open_threshold,\n",
    "            lower=-open_threshold,\n",
    "            up_medium=close_threshold,\n",
    "            low_medium=-close_threshold,\n",
    "            status=0,\n",
    "            portfolio_value=cash,\n",
    "        )\n",
    "\n",
    "        def log(self, txt, dt=None):\n",
    "            if self.p.printout:\n",
    "                dt = dt or self.data.datetime[-1]\n",
    "                dt = bt.num2date(dt)\n",
    "                #print('%s, %s' % (dt.isoformat(), txt))\n",
    "\n",
    "        def notify_order(self, order):\n",
    "            if order.status in [bt.Order.Submitted, bt.Order.Accepted]:\n",
    "                return  # Await further notifications\n",
    "\n",
    "            if order.status == order.Completed:\n",
    "                if order.isbuy():\n",
    "                    buytxt = 'BUY COMPLETE, %.2f' % order.executed.price\n",
    "                    self.log(buytxt, order.executed.dt)\n",
    "                else:\n",
    "                    selltxt = 'SELL COMPLETE, %.2f' % order.executed.price\n",
    "                    self.log(selltxt, order.executed.dt)\n",
    "\n",
    "            elif order.status in [order.Expired, order.Canceled, order.Margin]:\n",
    "                self.log('%s ,' % order.Status[order.status])\n",
    "                pass  # Simply log\n",
    "\n",
    "            # Allow new orders\n",
    "            self.orderid = None\n",
    "\n",
    "        def notify_trade(self, trade):\n",
    "            if not trade.isclosed:\n",
    "                return\n",
    "\n",
    "            self.log('OPERATION PROFIT, GROSS %.2f, NET %.2f' %\n",
    "                     (trade.pnl, trade.pnlcomm))\n",
    "\n",
    "        def __init__(self):\n",
    "            # To control operation entries\n",
    "            self.orderid = None\n",
    "            self.qty1 = self.p.qty1\n",
    "            self.qty2 = self.p.qty2\n",
    "            self.upper_limit = self.p.upper\n",
    "            self.lower_limit = self.p.lower\n",
    "            self.up_medium = self.p.up_medium\n",
    "            self.low_medium = self.p.low_medium\n",
    "            self.status = self.p.status\n",
    "            self.portfolio_value = self.p.portfolio_value\n",
    "\n",
    "            # Signals performed with PD.OLS :\n",
    "            self.transform = btind.OLS_TransformationN(self.data0, self.data1,\n",
    "                                                       period=self.p.period)\n",
    "            self.zscore = self.transform.zscore\n",
    "            self.stake = stak\n",
    "            # Checking signals built with StatsModel.API :\n",
    "            # self.ols_transform = btind.OLS_Transformation(self.data0, self.data1,\n",
    "            #                                              period=self.p.period,\n",
    "            #                                              plot=True)\n",
    "\n",
    "        def next(self):\n",
    "\n",
    "            if self.orderid:\n",
    "                return  # if an order is active, no new orders are allowed\n",
    "\n",
    "            if self.p.printout:\n",
    "                #print('Self  len:', len(self))\n",
    "                #print('Data0 len:', len(self.data0))\n",
    "                #print('Data1 len:', len(self.data1))\n",
    "                #print('Data0 len == Data1 len:',\n",
    "                #      len(self.data0) == len(self.data1))\n",
    "                zscore.append(self.zscore[0])\n",
    "                # spread.append(self.spread)\n",
    "\n",
    "                #print('Data0 dt:', self.data0.datetime.datetime())\n",
    "                #print('Data1 dt:', self.data1.datetime.datetime())\n",
    "                #print('Portfolio value:', self.broker.getvalue())\n",
    "            #print('status is', self.status)\n",
    "            #print('zscore is', self.zscore[0])\n",
    "\n",
    "            # Step 2: Check conditions for SHORT & place the order\n",
    "            # Checking the condition for SHORT\n",
    "            if (self.zscore[0] >= self.upper_limit) and (self.status != 1):\n",
    "\n",
    "                # Calculating the number of shares for each stock\n",
    "                value = (self.stake / divide) * self.portfolio_value  # Divide the cash equally\n",
    "                if LR.coef_[0][0] > 1:\n",
    "                    y = value / (self.data1.close)\n",
    "                    x = y / LR.coef_[0][0]\n",
    "                elif LR.coef_[0][0] < 1:\n",
    "                    x = value / (self.data0.close)  # Find the number of shares for Stock1\n",
    "                    y = x * LR.coef_[0][0]  # Find the number of shares for Stock2\n",
    "                #print('x + self.qty1 is', x + self.qty1)\n",
    "                #print('y + self.qty2 is', y + self.qty2)\n",
    "\n",
    "                # Placing the order\n",
    "                #self.log('SELL CREATE %s, price = %.2f, qty = %d' % (first_pair, self.data0.close[0], x + self.qty1))\n",
    "                self.sell(data=self.data0, size=(x + self.qty1))  # Place an order for buying y + qty2 shares\n",
    "                #self.log('BUY CREATE %s, price = %.2f, qty = %d' % (second_pair, self.data1.close[0], y + self.qty2))\n",
    "                self.buy(data=self.data1, size=(y + self.qty2))  # Place an order for selling x + qty1 shares\n",
    "\n",
    "                # Updating the counters with new value\n",
    "                self.qty1 = x  # The new open position quantity for Stock1 is x shares\n",
    "                self.qty2 = y  # The new open position quantity for Stock2 is y shares\n",
    "\n",
    "                self.status = 1  # The current status is \"short the spread\"\n",
    "\n",
    "                # Step 3: Check conditions for LONG & place the order\n",
    "                # Checking the condition for LONG\n",
    "\n",
    "            elif (self.zscore[0] <= self.lower_limit) and (self.status != 2):\n",
    "\n",
    "                # Calculating the number of shares for each stock\n",
    "                value = (self.stake / divide) * self.portfolio_value  # Divide the cash equally\n",
    "                x = value / (self.data0.close)  # Find the number of shares for Stock1\n",
    "                y = value / (self.data1.close)  # Find the number of shares for Stock2\n",
    "                #print('x + self.qty1 is', x + self.qty1)\n",
    "                #print('y + self.qty2 is', y + self.qty2)\n",
    "\n",
    "                # Place the order\n",
    "\n",
    "                #self.log('SELL CREATE %s, price = %.2f, qty = %d' % (second_pair, self.data1.close[0], y + self.qty2))\n",
    "                self.sell(data=self.data1, size=(y + self.qty2))  # Place an order for selling y + qty2 shares\n",
    "                #self.log('BUY CREATE %s, price = %.2f, qty = %d' % (first_pair, self.data0.close[0], x + self.qty1))\n",
    "                self.buy(data=self.data0, size=(x + self.qty1))  # Place an order for buying x + qty1 shares\n",
    "\n",
    "                # Updating the counters with new value\n",
    "                self.qty1 = x  # The new open position quantity for Stock1 is x shares\n",
    "                self.qty2 = y  # The new open position quantity for Stock2 is y shares\n",
    "                self.status = 2  # The current status is \"long the spread\"\n",
    "\n",
    "                # Step 4: Check conditions for No Trade\n",
    "                # If the z-score is within the two bounds, close all\n",
    "\n",
    "            elif (self.status == 2 or self.status == 1) and (\n",
    "                    self.zscore[0] < self.up_medium and self.zscore[0] > self.low_medium):\n",
    "                #self.log('CLOSE LONG %s, price = %.2f' % (\"ABN\", self.data0.close[0]))\n",
    "                self.close(self.data0)\n",
    "                #self.log('CLOSE LONG %s, price = %.2f' % (\"ING\", self.data1.close[0]))\n",
    "                self.close(self.data1)\n",
    "                self.status = 0\n",
    "\n",
    "        def stop(self):\n",
    "            print('==================================================')\n",
    "            print('Starting Value - %.2f' % self.broker.startingcash)\n",
    "            print('Ending   Value - %.2f' % self.broker.getvalue())\n",
    "            returns.append([first_pair, second_pair, self.broker.getvalue() / self.broker.startingcash])\n",
    "            print('==================================================')\n",
    "\n",
    "\n",
    "    def runstrategy():\n",
    "        args = parse_args()\n",
    "\n",
    "        # Create a cerebro\n",
    "        cerebro = bt.Cerebro()\n",
    "        # Get the dates from the args\n",
    "        fromdate = datetime.datetime.strptime(args.fromdate, '%Y-%m-%d %H:%M:%S')\n",
    "        todate = datetime.datetime.strptime(args.todate, '%Y-%m-%d %H:%M:%S')\n",
    "\n",
    "        # Create the 1st data\n",
    "        class Tickstory(btfeeds.GenericCSVData):\n",
    "            params = (\n",
    "                ('dtformat', '%Y-%m-%d %H:%M:%S'),\n",
    "                ('datetime', 0),\n",
    "                ('time', -1),\n",
    "                ('open', 1),\n",
    "                ('high', 2),\n",
    "                ('low', 3),\n",
    "                ('close', 4),\n",
    "                ('volume', -1),\n",
    "                ('openinterest', -1),\n",
    "                ('timeframe', bt.TimeFrame.Minutes),\n",
    "                ('compression', 1)\n",
    "            )\n",
    "\n",
    "        # Develop feed\n",
    "        data0 = Tickstory(dataname=\"data/\" + first_pair)\n",
    "\n",
    "        # Add the 1st data to cerebro\n",
    "        cerebro.adddata(data0)\n",
    "        # Develop feed\n",
    "        data1 = Tickstory(dataname=\"data/\" + second_pair)\n",
    "        # Add the 2nd data to cerebro\n",
    "        cerebro.adddata(data1)\n",
    "        # Add the strategy\n",
    "        cerebro.addstrategy(PairTradingStrategy,\n",
    "                            period=args.period,\n",
    "                            stake=args.stake)\n",
    "\n",
    "        # Add the commission - only stocks like a for each operation\n",
    "        cerebro.broker.setcash(args.cash)\n",
    "\n",
    "        # Add the commission - only stocks like a for each operation\n",
    "        cerebro.broker.setcommission(commission=args.commperc)\n",
    "\n",
    "        # And run it\n",
    "        cerebro.run(runonce=not args.runnext,\n",
    "                    preload=not args.nopreload,\n",
    "                    oldsync=args.oldsync)\n",
    "\n",
    "        # Plot if requested\n",
    "        #cerebro.plot(iplot=False, volume=False)\n",
    "\n",
    "\n",
    "    def parse_args():\n",
    "        parser = argparse.ArgumentParser(description='MultiData Strategy')\n",
    "\n",
    "        parser.add_argument('--data0', '-d0',\n",
    "                            default=first_pair,\n",
    "                            help='1st data into the system')\n",
    "\n",
    "        parser.add_argument('--data1', '-d1',\n",
    "                            default=second_pair,\n",
    "                            help='2nd data into the system')\n",
    "\n",
    "        parser.add_argument('--fromdate', required=False,\n",
    "                            default='2017-07-04  09:00:00',\n",
    "                            help='Starting date in YYYY-MM-DD format')\n",
    "\n",
    "        parser.add_argument('--todate', required=False,\n",
    "                            default='2021-07-15  11:00:00',\n",
    "                            help='Ending date in YYYY-MM-DD format')\n",
    "\n",
    "        parser.add_argument('--period', default=per, type=int,\n",
    "                            help='Period to apply to the Simple Moving Average')\n",
    "\n",
    "        parser.add_argument('--cash', default=cash, type=int,\n",
    "                            help='Starting Cash')\n",
    "\n",
    "        parser.add_argument('--runnext', action='store_true',\n",
    "                            help='Use next by next instead of runonce')\n",
    "\n",
    "        parser.add_argument('--nopreload', action='store_true',\n",
    "                            help='Do not preload the data')\n",
    "\n",
    "        parser.add_argument('--oldsync', action='store_true',\n",
    "                            help='Use old data synchronization method')\n",
    "\n",
    "        parser.add_argument('--commperc', default=0.0014, type=float,\n",
    "                            help='Percentage commission (0.005 is 0.5%%')\n",
    "\n",
    "        parser.add_argument('--stake', default=stak, type=int,\n",
    "                            help='Stake to apply in each operation')\n",
    "\n",
    "        parser.add_argument('--plot', '-p', default=True, action='store_true',\n",
    "                            help='Plot the read data')\n",
    "\n",
    "        parser.add_argument('--numfigs', '-n', default=1,\n",
    "                            help='Plot using numfigs figures')\n",
    "        parser.add_argument(\"-f\", \"--fff\", help=\"a dummy argument to fool ipython\", default=\"1\")\n",
    "\n",
    "        return parser.parse_args()\n",
    "\n",
    "\n",
    "    if __name__ == '__main__':\n",
    "        runstrategy()\n",
    "\n",
    "returns = pd.DataFrame(returns)\n",
    "returns.to_csv(\"Returns.csv\")"
   ]
  },
  {
   "cell_type": "code",
   "execution_count": 4,
   "id": "75f8622b-08f9-47f0-88fd-0db474164190",
   "metadata": {},
   "outputs": [
    {
     "data": {
      "text/plain": [
       "(array([ 1.,  0.,  0.,  0.,  4., 14., 36., 71., 36., 13.]),\n",
       " array([-0.20720642, -0.04530106,  0.11660429,  0.27850965,  0.44041501,\n",
       "         0.60232037,  0.76422573,  0.92613108,  1.08803644,  1.2499418 ,\n",
       "         1.41184716]),\n",
       " <a list of 10 Patch objects>)"
      ]
     },
     "execution_count": 4,
     "metadata": {},
     "output_type": "execute_result"
    },
    {
     "data": {
      "image/png": "[encoded data removed]",
      "text/plain": [
       "<Figure size 432x288 with 1 Axes>"
      ]
     },
     "metadata": {
      "needs_background": "light"
     },
     "output_type": "display_data"
    }
   ],
   "source": [
    "import matplotlib.pyplot as plt\n",
    "%matplotlib inline\n",
    "df = pd.read_csv(\"Returns.csv\", names = [\"Pair1\", \"Pair2\", \"Return\"])\n",
    "df = df.sort_values(by=[\"Return\"], ignore_index=True)\n",
    "df = df.head(-1)\n",
    "plt.hist(df.Return)"
   ]
  },
  {
   "cell_type": "code",
   "execution_count": 5,
   "id": "48ea6310-2407-430e-b14e-1ba438d7b0b9",
   "metadata": {},
   "outputs": [
    {
     "data": {
      "text/plain": [
       "17356.743890474158"
      ]
     },
     "execution_count": 5,
     "metadata": {},
     "output_type": "execute_result"
    }
   ],
   "source": [
    "cash = 100\n",
    "end_value = df.Return*cash\n",
    "end_value.sum()"
   ]
  },
  {
   "cell_type": "code",
   "execution_count": 6,
   "id": "248894f2-6b95-4cfa-9b55-12d61ae1156f",
   "metadata": {},
   "outputs": [
    {
     "data": {
      "text/plain": [
       "0.9060715174894487"
      ]
     },
     "execution_count": 6,
     "metadata": {},
     "output_type": "execute_result"
    }
   ],
   "source": [
    "compound_yield = (end_value.sum()/(len(df)*cash))**12\n",
    "compound_yield"
   ]
  },
  {
   "cell_type": "code",
   "execution_count": 8,
   "id": "ad745436-15e3-4672-83c5-52313ce1ec0b",
   "metadata": {},
   "outputs": [
    {
     "data": {
      "text/html": [
       "<div>\n",
       "<style scoped>\n",
       "    .dataframe tbody tr th:only-of-type {\n",
       "        vertical-align: middle;\n",
       "    }\n",
       "\n",
       "    .dataframe tbody tr th {\n",
       "        vertical-align: top;\n",
       "    }\n",
       "\n",
       "    .dataframe thead th {\n",
       "        text-align: right;\n",
       "    }\n",
       "</style>\n",
       "<table border=\"1\" class=\"dataframe\">\n",
       "  <thead>\n",
       "    <tr style=\"text-align: right;\">\n",
       "      <th></th>\n",
       "      <th>Pair1</th>\n",
       "      <th>Pair2</th>\n",
       "      <th>Return</th>\n",
       "    </tr>\n",
       "  </thead>\n",
       "  <tbody>\n",
       "    <tr>\n",
       "      <th>0</th>\n",
       "      <td>AXS_USDT</td>\n",
       "      <td>CHZ_USDT</td>\n",
       "      <td>-0.207206</td>\n",
       "    </tr>\n",
       "    <tr>\n",
       "      <th>1</th>\n",
       "      <td>CHZ_USDT</td>\n",
       "      <td>AXS_USDT</td>\n",
       "      <td>0.547488</td>\n",
       "    </tr>\n",
       "    <tr>\n",
       "      <th>2</th>\n",
       "      <td>RSR_USDT</td>\n",
       "      <td>STORJ_USDT</td>\n",
       "      <td>0.577520</td>\n",
       "    </tr>\n",
       "    <tr>\n",
       "      <th>3</th>\n",
       "      <td>ZRX_USDT</td>\n",
       "      <td>XEM_USDT</td>\n",
       "      <td>0.586649</td>\n",
       "    </tr>\n",
       "    <tr>\n",
       "      <th>4</th>\n",
       "      <td>CHR_USDT</td>\n",
       "      <td>ALICE_USDT</td>\n",
       "      <td>0.599286</td>\n",
       "    </tr>\n",
       "    <tr>\n",
       "      <th>...</th>\n",
       "      <td>...</td>\n",
       "      <td>...</td>\n",
       "      <td>...</td>\n",
       "    </tr>\n",
       "    <tr>\n",
       "      <th>170</th>\n",
       "      <td>UNFI_USDT</td>\n",
       "      <td>BEL_USDT</td>\n",
       "      <td>1.339658</td>\n",
       "    </tr>\n",
       "    <tr>\n",
       "      <th>171</th>\n",
       "      <td>BEL_USDT</td>\n",
       "      <td>UNFI_USDT</td>\n",
       "      <td>1.357890</td>\n",
       "    </tr>\n",
       "    <tr>\n",
       "      <th>172</th>\n",
       "      <td>DODO_USDT</td>\n",
       "      <td>AKRO_USDT</td>\n",
       "      <td>1.386466</td>\n",
       "    </tr>\n",
       "    <tr>\n",
       "      <th>173</th>\n",
       "      <td>CVC_USDT</td>\n",
       "      <td>MTL_USDT</td>\n",
       "      <td>1.411419</td>\n",
       "    </tr>\n",
       "    <tr>\n",
       "      <th>174</th>\n",
       "      <td>AKRO_USDT</td>\n",
       "      <td>GRT_USDT</td>\n",
       "      <td>1.411847</td>\n",
       "    </tr>\n",
       "  </tbody>\n",
       "</table>\n",
       "<p>175 rows × 3 columns</p>\n",
       "</div>"
      ],
      "text/plain": [
       "         Pair1       Pair2    Return\n",
       "0     AXS_USDT    CHZ_USDT -0.207206\n",
       "1     CHZ_USDT    AXS_USDT  0.547488\n",
       "2     RSR_USDT  STORJ_USDT  0.577520\n",
       "3     ZRX_USDT    XEM_USDT  0.586649\n",
       "4     CHR_USDT  ALICE_USDT  0.599286\n",
       "..         ...         ...       ...\n",
       "170  UNFI_USDT    BEL_USDT  1.339658\n",
       "171   BEL_USDT   UNFI_USDT  1.357890\n",
       "172  DODO_USDT   AKRO_USDT  1.386466\n",
       "173   CVC_USDT    MTL_USDT  1.411419\n",
       "174  AKRO_USDT    GRT_USDT  1.411847\n",
       "\n",
       "[175 rows x 3 columns]"
      ]
     },
     "execution_count": 8,
     "metadata": {},
     "output_type": "execute_result"
    }
   ],
   "source": [
    "df"
   ]
  },
  {
   "cell_type": "code",
   "execution_count": null,
   "id": "123a855e-bc90-442d-89b5-a389e64c74fb",
   "metadata": {},
   "outputs": [],
   "source": []
  }
 ],
 "metadata": {
  "kernelspec": {
   "display_name": "Python 3",
   "language": "python",
   "name": "python3"
  },
  "language_info": {
   "codemirror_mode": {
    "name": "ipython",
    "version": 3
   },
   "file_extension": ".py",
   "mimetype": "text/x-python",
   "name": "python",
   "nbconvert_exporter": "python",
   "pygments_lexer": "ipython3",
   "version": "3.9.5"
  }
 },
 "nbformat": 4,
 "nbformat_minor": 5
}
